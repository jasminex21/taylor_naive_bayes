{
 "cells": [
  {
   "cell_type": "markdown",
   "id": "a640d888-9c39-463e-afab-4bf1fa7cc8b7",
   "metadata": {},
   "source": [
    "# taylor_naive_bayes"
   ]
  },
  {
   "cell_type": "markdown",
   "id": "b9ef8144-1945-461b-9f2c-b1ed7ca1784c",
   "metadata": {},
   "source": [
    "The aim of this project is essentially to train a Naive Bayes model that can play my Taylor Swift lyrics guessing game - as in, it can be fed a lyric from any Taylor Swift song, and guess from which song the lyric comes from. The model will be trained on a dataset of all lyrics from Taylor's (album) discography (as of March 2024). \n",
    "\n",
    "Naive Bayes classifiers are a type of *probabilistic* classifers based on Bayes Theorem. As in, once trained, they can predict the probability of a given sequence of words being of a certain class (the song in this case), based on information learned during training ($P(c|W)$). This specific information includes the **likelihood** $P(W|c)$, which is the probability that the lyrics come up given the song, and also the **prior** $P(c)$, the probability of the song coming up itself.\n",
    "\n",
    "Ultimately, what the model does is to compute the **posterior** $P(c|W)$ for *every class (song)*. The song whose posterior is the greatest is then the song that the lyric most likely comes from. Given the probabilistic nature of Naive Bayes models, it would be possible for the model to output a list of the songs that the lyric is most likely to come from, not just its overall prediction. "
   ]
  },
  {
   "cell_type": "markdown",
   "id": "12e09c1a-94dd-4625-b0cb-68eb5681b0d5",
   "metadata": {},
   "source": [
    "### Data preprocessing"
   ]
  },
  {
   "cell_type": "code",
   "execution_count": 148,
   "id": "c9038b76-3ca1-47ca-b8cc-87a7449be620",
   "metadata": {},
   "outputs": [],
   "source": [
    "import pandas as pd\n",
    "import numpy as np\n",
    "from sklearn.feature_extraction.text import CountVectorizer\n",
    "from sklearn.metrics import accuracy_score\n",
    "from sklearn.model_selection import train_test_split\n",
    "from sklearn.naive_bayes import MultinomialNB"
   ]
  },
  {
   "cell_type": "code",
   "execution_count": 149,
   "id": "97dea6c7-b3ec-445e-ad2e-0c7bbaa70a2a",
   "metadata": {},
   "outputs": [
    {
     "data": {
      "text/html": [
       "<div>\n",
       "<style scoped>\n",
       "    .dataframe tbody tr th:only-of-type {\n",
       "        vertical-align: middle;\n",
       "    }\n",
       "\n",
       "    .dataframe tbody tr th {\n",
       "        vertical-align: top;\n",
       "    }\n",
       "\n",
       "    .dataframe thead th {\n",
       "        text-align: right;\n",
       "    }\n",
       "</style>\n",
       "<table border=\"1\" class=\"dataframe\">\n",
       "  <thead>\n",
       "    <tr style=\"text-align: right;\">\n",
       "      <th></th>\n",
       "      <th>line</th>\n",
       "      <th>lyric</th>\n",
       "      <th>element</th>\n",
       "      <th>track_name</th>\n",
       "      <th>album_name</th>\n",
       "    </tr>\n",
       "  </thead>\n",
       "  <tbody>\n",
       "    <tr>\n",
       "      <th>0</th>\n",
       "      <td>1</td>\n",
       "      <td>He said the way my blue eyes shined</td>\n",
       "      <td>Verse 1</td>\n",
       "      <td>Tim McGraw</td>\n",
       "      <td>Taylor Swift</td>\n",
       "    </tr>\n",
       "    <tr>\n",
       "      <th>1</th>\n",
       "      <td>2</td>\n",
       "      <td>Put those Georgia stars to shame that night</td>\n",
       "      <td>Verse 1</td>\n",
       "      <td>Tim McGraw</td>\n",
       "      <td>Taylor Swift</td>\n",
       "    </tr>\n",
       "    <tr>\n",
       "      <th>2</th>\n",
       "      <td>3</td>\n",
       "      <td>I said, \"That's a lie\"</td>\n",
       "      <td>Verse 1</td>\n",
       "      <td>Tim McGraw</td>\n",
       "      <td>Taylor Swift</td>\n",
       "    </tr>\n",
       "    <tr>\n",
       "      <th>3</th>\n",
       "      <td>4</td>\n",
       "      <td>Just a boy in a Chevy truck</td>\n",
       "      <td>Verse 1</td>\n",
       "      <td>Tim McGraw</td>\n",
       "      <td>Taylor Swift</td>\n",
       "    </tr>\n",
       "    <tr>\n",
       "      <th>4</th>\n",
       "      <td>5</td>\n",
       "      <td>That had a tendency of gettin' stuck</td>\n",
       "      <td>Verse 1</td>\n",
       "      <td>Tim McGraw</td>\n",
       "      <td>Taylor Swift</td>\n",
       "    </tr>\n",
       "    <tr>\n",
       "      <th>...</th>\n",
       "      <td>...</td>\n",
       "      <td>...</td>\n",
       "      <td>...</td>\n",
       "      <td>...</td>\n",
       "      <td>...</td>\n",
       "    </tr>\n",
       "    <tr>\n",
       "      <th>10045</th>\n",
       "      <td>39</td>\n",
       "      <td>Let you know that what I feel is true</td>\n",
       "      <td>Chorus</td>\n",
       "      <td>I'm Only Me When I'm With You</td>\n",
       "      <td>Taylor Swift</td>\n",
       "    </tr>\n",
       "    <tr>\n",
       "      <th>10046</th>\n",
       "      <td>40</td>\n",
       "      <td>And I'm only me, who I wanna be</td>\n",
       "      <td>Chorus</td>\n",
       "      <td>I'm Only Me When I'm With You</td>\n",
       "      <td>Taylor Swift</td>\n",
       "    </tr>\n",
       "    <tr>\n",
       "      <th>10047</th>\n",
       "      <td>41</td>\n",
       "      <td>Well, I'm only me when I'm with you</td>\n",
       "      <td>Chorus</td>\n",
       "      <td>I'm Only Me When I'm With You</td>\n",
       "      <td>Taylor Swift</td>\n",
       "    </tr>\n",
       "    <tr>\n",
       "      <th>10048</th>\n",
       "      <td>42</td>\n",
       "      <td>With you</td>\n",
       "      <td>Outro</td>\n",
       "      <td>I'm Only Me When I'm With You</td>\n",
       "      <td>Taylor Swift</td>\n",
       "    </tr>\n",
       "    <tr>\n",
       "      <th>10049</th>\n",
       "      <td>43</td>\n",
       "      <td>Uh-huh, yeah</td>\n",
       "      <td>Outro</td>\n",
       "      <td>I'm Only Me When I'm With You</td>\n",
       "      <td>Taylor Swift</td>\n",
       "    </tr>\n",
       "  </tbody>\n",
       "</table>\n",
       "<p>10050 rows × 5 columns</p>\n",
       "</div>"
      ],
      "text/plain": [
       "       line                                        lyric  element  \\\n",
       "0         1          He said the way my blue eyes shined  Verse 1   \n",
       "1         2  Put those Georgia stars to shame that night  Verse 1   \n",
       "2         3                       I said, \"That's a lie\"  Verse 1   \n",
       "3         4                  Just a boy in a Chevy truck  Verse 1   \n",
       "4         5         That had a tendency of gettin' stuck  Verse 1   \n",
       "...     ...                                          ...      ...   \n",
       "10045    39        Let you know that what I feel is true   Chorus   \n",
       "10046    40              And I'm only me, who I wanna be   Chorus   \n",
       "10047    41          Well, I'm only me when I'm with you   Chorus   \n",
       "10048    42                                     With you    Outro   \n",
       "10049    43                                 Uh-huh, yeah    Outro   \n",
       "\n",
       "                          track_name    album_name  \n",
       "0                         Tim McGraw  Taylor Swift  \n",
       "1                         Tim McGraw  Taylor Swift  \n",
       "2                         Tim McGraw  Taylor Swift  \n",
       "3                         Tim McGraw  Taylor Swift  \n",
       "4                         Tim McGraw  Taylor Swift  \n",
       "...                              ...           ...  \n",
       "10045  I'm Only Me When I'm With You  Taylor Swift  \n",
       "10046  I'm Only Me When I'm With You  Taylor Swift  \n",
       "10047  I'm Only Me When I'm With You  Taylor Swift  \n",
       "10048  I'm Only Me When I'm With You  Taylor Swift  \n",
       "10049  I'm Only Me When I'm With You  Taylor Swift  \n",
       "\n",
       "[10050 rows x 5 columns]"
      ]
     },
     "execution_count": 149,
     "metadata": {},
     "output_type": "execute_result"
    }
   ],
   "source": [
    "taylor = pd.read_csv(\"allTaylorLyrics_2024.csv\", usecols=[1, 2, 3, 4, 5])\n",
    "taylor"
   ]
  },
  {
   "cell_type": "code",
   "execution_count": 150,
   "id": "1155250d-fb0c-4e0c-b7a9-432c9fdd2601",
   "metadata": {},
   "outputs": [],
   "source": [
    "# replacing All Too Well 10MV with \"All Too Well 10\" so that it is distinct from normal All Too Well when parentheses are removed\n",
    "# if this is not done, then the probabilities of ATW are probably more than doubled\n",
    "taylor.loc[(taylor['track_name'] == \"All Too Well (10 Minute Version) (Taylor's Version) (From The Vault)\"), 'track_name'] = \"All Too Well 10\""
   ]
  },
  {
   "cell_type": "code",
   "execution_count": 151,
   "id": "5092c1ce-4a80-4a57-8448-5058b4ab2b23",
   "metadata": {
    "scrolled": true
   },
   "outputs": [
    {
     "data": {
      "text/plain": [
       "array([\"'tis the damn season\", '...Ready For It?', '22',\n",
       "       'A Perfectly Good Heart', 'A Place In This World', 'Afterglow',\n",
       "       'All Too Well', 'All Too Well 10', 'All You Had To Do Was Stay',\n",
       "       'Anti-Hero', 'Babe', 'Back To December', 'Bad Blood',\n",
       "       'Begin Again', 'Bejeweled', 'Better Man', 'Better Than Revenge',\n",
       "       'Bigger Than The Whole Sky', 'Blank Space', 'Breathe',\n",
       "       'Bye Bye Baby', 'Call It What You Want', 'Castles Crumbling',\n",
       "       'Change', 'Clean', 'Cold As You', 'Come Back...Be Here',\n",
       "       'Come In With The Rain', 'Cornelia Street', 'Cruel Summer',\n",
       "       'Dancing With Our Hands Tied', 'Daylight', 'Dear John',\n",
       "       'Dear Reader', 'Death By A Thousand Cuts', 'Delicate',\n",
       "       \"Don't Blame Me\", \"Don't You\", 'Dress', 'Electric Touch',\n",
       "       'Enchanted', 'End Game', 'Everything Has Changed', 'False God',\n",
       "       'Fearless', 'Fifteen', 'Foolish One', 'Forever & Always',\n",
       "       'Forever Winter', 'Getaway Car', 'Girl At Home', 'Glitch',\n",
       "       'Gorgeous', 'Haunted', 'Hey Stephen', 'High Infidelity',\n",
       "       'Holy Ground', 'How You Get The Girl', 'I Almost Do',\n",
       "       'I Bet You Think About Me', 'I Can See You', 'I Did Something Bad',\n",
       "       'I Forgot That You Existed', 'I Knew You Were Trouble',\n",
       "       'I Know Places', 'I Think He Knows', 'I Wish You Would',\n",
       "       \"I'm Only Me When I'm With You\", 'Innocent', 'Invisible',\n",
       "       'Is It Over Now?', \"It's Nice To Have A Friend\", 'Jump Then Fall',\n",
       "       'Karma', 'King Of My Heart', 'Labyrinth', 'Last Kiss',\n",
       "       'Lavender Haze', 'London Boy', 'Long Live',\n",
       "       'Look What You Made Me Do', 'Love Story', 'Lover', 'ME!', 'Maroon',\n",
       "       \"Mary's Song\", 'Mastermind', 'Mean', 'Message In A Bottle',\n",
       "       'Midnight Rain', 'Mine', 'Miss Americana & The Heartbreak Prince',\n",
       "       'Mr. Perfectly Fine', 'Never Grow Up', 'New Romantics',\n",
       "       \"New Year's Day\", 'Nothing New', \"Now That We Don't Talk\",\n",
       "       'Our Song', 'Ours', 'Out Of The Woods', 'Paper Rings', 'Paris',\n",
       "       'Picture To Burn', 'Question...?', 'Red', 'Ronan', 'Run',\n",
       "       'Sad Beautiful Tragic', \"Say Don't Go\", 'Shake It Off',\n",
       "       \"Should've Said No\", 'Slut!', 'Snow On The Beach', 'So It Goes...',\n",
       "       \"Soon You'll Get Better\", 'Sparks Fly', 'Speak Now', 'Starlight',\n",
       "       'State Of Grace', 'Stay Beautiful', 'Stay Stay Stay', 'Style',\n",
       "       'Suburban Legends', 'SuperStar', 'Superman', 'Sweet Nothing',\n",
       "       'Teardrops On My Guitar', 'Tell Me Why', \"That's When\",\n",
       "       'The Archer', 'The Best Day', 'The Great War', 'The Last Time',\n",
       "       'The Lucky One', 'The Man', 'The Moment I Knew',\n",
       "       'The Other Side Of The Door', 'The Outside', 'The Story Of Us',\n",
       "       'The Very First Night', 'The Way I Loved You',\n",
       "       \"This Is Why We Can't Have Nice Things\", 'This Love',\n",
       "       'Tied Together With A Smile', 'Tim McGraw', 'Timeless',\n",
       "       'Today Was A Fairytale', 'Treacherous', 'Untouchable',\n",
       "       'Vigilante Shit', 'We Are Never Ever Getting Back Together',\n",
       "       'We Were Happy', 'Welcome To New York', 'When Emma Falls In Love',\n",
       "       'White Horse', 'Wildest Dreams', 'Wonderland',\n",
       "       \"Would've, Could've, Should've\", 'You All Over Me',\n",
       "       'You Are In Love', 'You Belong With Me', 'You Need To Calm Down',\n",
       "       \"You're Not Sorry\", \"You're On Your Own, Kid\", 'august', 'betty',\n",
       "       'cardigan', 'champagne problems', 'closure', 'coney island',\n",
       "       'cowboy like me', 'dorothea', 'epiphany', 'evermore', 'exile',\n",
       "       'gold rush', 'happiness', 'hoax', 'illicit affairs',\n",
       "       'invisible string', \"it's time to go\", 'ivy', 'long story short',\n",
       "       'mad woman', 'marjorie', 'mirrorball', 'my tears ricochet',\n",
       "       'no body, no crime', 'peace', 'right where you left me', 'seven',\n",
       "       'the 1', 'the lakes', 'the last great american dynasty',\n",
       "       'this is me trying', 'tolerate it', 'willow'], dtype=object)"
      ]
     },
     "execution_count": 151,
     "metadata": {},
     "output_type": "execute_result"
    }
   ],
   "source": [
    "# replace all parentheses in track names; helps readability\n",
    "taylor[\"track_name\"] = taylor[\"track_name\"].str.replace(r'\\s*\\([^)]*\\)', '', regex=True)\n",
    "np.unique(taylor[\"track_name\"])"
   ]
  },
  {
   "cell_type": "markdown",
   "id": "abe45320-d7cd-4d0e-b8ca-8277d892bce6",
   "metadata": {},
   "source": [
    "### Split dataset"
   ]
  },
  {
   "cell_type": "code",
   "execution_count": 152,
   "id": "f72fcba6-2e76-4460-a8f9-53e37bcb240c",
   "metadata": {},
   "outputs": [],
   "source": [
    "# split dataset into training and testing sets\n",
    "lyrics_train, lyrics_test, song_train, song_test = train_test_split(taylor[\"lyric\"], \n",
    "                                                                    taylor[\"track_name\"], \n",
    "                                                                    test_size = 0.2, random_state = 21)"
   ]
  },
  {
   "cell_type": "code",
   "execution_count": 153,
   "id": "ac7c2e25-9edf-4842-88b1-29fd8406036f",
   "metadata": {},
   "outputs": [
    {
     "data": {
      "text/plain": [
       "9716                  'Cause we survived the Great War\n",
       "4567                      All you had to do was (Stay)\n",
       "748     Now it's too late for you and your white horse\n",
       "2794           We fall in love 'til it hurts or bleeds\n",
       "9917                        Memories feel like weapons\n",
       "                             ...                      \n",
       "9336              And you're not sure and I don't know\n",
       "48                           When you think Tim McGraw\n",
       "8964               Sometimes to run is the brave thing\n",
       "5944                      Scratches down your back now\n",
       "5327                                  On the way home?\n",
       "Name: lyric, Length: 8040, dtype: object"
      ]
     },
     "execution_count": 153,
     "metadata": {},
     "output_type": "execute_result"
    }
   ],
   "source": [
    "lyrics_train"
   ]
  },
  {
   "cell_type": "code",
   "execution_count": 154,
   "id": "81e1d09a-8bc2-4d59-b399-6a3f0eb85801",
   "metadata": {},
   "outputs": [
    {
     "data": {
      "text/plain": [
       "9716                    The Great War\n",
       "4567       All You Had To Do Was Stay\n",
       "748                       White Horse\n",
       "2794                   State Of Grace\n",
       "9917    Would've, Could've, Should've\n",
       "                    ...              \n",
       "9336                     Question...?\n",
       "48                         Tim McGraw\n",
       "8964                  it's time to go\n",
       "5944                    So It Goes...\n",
       "5327           Now That We Don't Talk\n",
       "Name: track_name, Length: 8040, dtype: object"
      ]
     },
     "execution_count": 154,
     "metadata": {},
     "output_type": "execute_result"
    }
   ],
   "source": [
    "song_train"
   ]
  },
  {
   "cell_type": "markdown",
   "id": "9d51846e-61a2-4ef3-99d7-a54e41c7a495",
   "metadata": {},
   "source": [
    "### Models"
   ]
  },
  {
   "cell_type": "markdown",
   "id": "ff0379ac-d8ce-414d-b680-e052c3b5ce17",
   "metadata": {},
   "source": [
    "I would like to find the Naive Bayes model that achieves the highest classification accuracy out of the following: \n",
    "\n",
    "1. model trained on only unigrams\n",
    "2. model trained on unigrams *and* bigrams\n",
    "3. model trained on unigrams, bigrams, *and* trigrams\n",
    "\n",
    "I'd also like to examine the effects of removing English stopwords, as well as altering the $\\alpha$ hyperparameter (representing LaPlace smoothing; default is 1.0). "
   ]
  },
  {
   "cell_type": "markdown",
   "id": "57af9495-bb88-4b55-9f69-9597f55ed986",
   "metadata": {},
   "source": [
    "### Model trained only on unigrams"
   ]
  },
  {
   "cell_type": "code",
   "execution_count": 155,
   "id": "c5b6ac5f-7bf2-45cb-9604-eaf789a3c8bd",
   "metadata": {},
   "outputs": [],
   "source": [
    "# initialize vectorizers (one with stopwords removed, other one retaining them)\n",
    "vectorizer_unigrams_rm = CountVectorizer(stop_words=\"english\")\n",
    "vectorizer_unigrams_all = CountVectorizer()"
   ]
  },
  {
   "cell_type": "code",
   "execution_count": 156,
   "id": "0bc2e8ec-91c4-4be4-8c8b-f32e5c3c9fcd",
   "metadata": {},
   "outputs": [],
   "source": [
    "# fit transform the training set\n",
    "lyrics_train_unigrams_rm = vectorizer_unigrams_rm.fit_transform(lyrics_train)\n",
    "lyrics_train_unigrams_all = vectorizer_unigrams_all.fit_transform(lyrics_train)"
   ]
  },
  {
   "cell_type": "code",
   "execution_count": 157,
   "id": "baba3238-e4bb-47d0-a7fa-f3c42caaaaa4",
   "metadata": {},
   "outputs": [
    {
     "name": "stdout",
     "output_type": "stream",
     "text": [
      "(8040, 3334)\n",
      "(8040, 3567)\n"
     ]
    }
   ],
   "source": [
    "# observe the shapes - vectorized training set containing stopwords obviously has more features\n",
    "print(lyrics_train_unigrams_rm.toarray().shape)\n",
    "print(lyrics_train_unigrams_all.toarray().shape)"
   ]
  },
  {
   "cell_type": "code",
   "execution_count": 158,
   "id": "4dcfbe55-6fde-481b-9465-f27da39c3fb4",
   "metadata": {},
   "outputs": [],
   "source": [
    "# transform the testing set\n",
    "lyrics_test_unigrams_rm = vectorizer_unigrams_rm.transform(lyrics_test)\n",
    "lyrics_test_unigrams_all = vectorizer_unigrams_all.transform(lyrics_test)"
   ]
  },
  {
   "cell_type": "code",
   "execution_count": 159,
   "id": "eb520ed8-e534-4703-b4e7-759aa9166d6b",
   "metadata": {},
   "outputs": [
    {
     "name": "stdout",
     "output_type": "stream",
     "text": [
      "(2010, 3334)\n",
      "(2010, 3567)\n"
     ]
    }
   ],
   "source": [
    "print(lyrics_test_unigrams_rm.toarray().shape)\n",
    "print(lyrics_test_unigrams_all.toarray().shape)"
   ]
  },
  {
   "cell_type": "code",
   "execution_count": 160,
   "id": "9e3935b2-f301-41a1-be3d-6fa61fd44797",
   "metadata": {},
   "outputs": [],
   "source": [
    "# initialize NB models\n",
    "nb_model_unigrams_rm = MultinomialNB()\n",
    "nb_model_unigrams_all = MultinomialNB()"
   ]
  },
  {
   "cell_type": "code",
   "execution_count": 161,
   "id": "30cd4bce-2efc-401d-b448-28f66945907e",
   "metadata": {},
   "outputs": [
    {
     "data": {
      "text/html": [
       "<style>#sk-container-id-5 {color: black;background-color: white;}#sk-container-id-5 pre{padding: 0;}#sk-container-id-5 div.sk-toggleable {background-color: white;}#sk-container-id-5 label.sk-toggleable__label {cursor: pointer;display: block;width: 100%;margin-bottom: 0;padding: 0.3em;box-sizing: border-box;text-align: center;}#sk-container-id-5 label.sk-toggleable__label-arrow:before {content: \"▸\";float: left;margin-right: 0.25em;color: #696969;}#sk-container-id-5 label.sk-toggleable__label-arrow:hover:before {color: black;}#sk-container-id-5 div.sk-estimator:hover label.sk-toggleable__label-arrow:before {color: black;}#sk-container-id-5 div.sk-toggleable__content {max-height: 0;max-width: 0;overflow: hidden;text-align: left;background-color: #f0f8ff;}#sk-container-id-5 div.sk-toggleable__content pre {margin: 0.2em;color: black;border-radius: 0.25em;background-color: #f0f8ff;}#sk-container-id-5 input.sk-toggleable__control:checked~div.sk-toggleable__content {max-height: 200px;max-width: 100%;overflow: auto;}#sk-container-id-5 input.sk-toggleable__control:checked~label.sk-toggleable__label-arrow:before {content: \"▾\";}#sk-container-id-5 div.sk-estimator input.sk-toggleable__control:checked~label.sk-toggleable__label {background-color: #d4ebff;}#sk-container-id-5 div.sk-label input.sk-toggleable__control:checked~label.sk-toggleable__label {background-color: #d4ebff;}#sk-container-id-5 input.sk-hidden--visually {border: 0;clip: rect(1px 1px 1px 1px);clip: rect(1px, 1px, 1px, 1px);height: 1px;margin: -1px;overflow: hidden;padding: 0;position: absolute;width: 1px;}#sk-container-id-5 div.sk-estimator {font-family: monospace;background-color: #f0f8ff;border: 1px dotted black;border-radius: 0.25em;box-sizing: border-box;margin-bottom: 0.5em;}#sk-container-id-5 div.sk-estimator:hover {background-color: #d4ebff;}#sk-container-id-5 div.sk-parallel-item::after {content: \"\";width: 100%;border-bottom: 1px solid gray;flex-grow: 1;}#sk-container-id-5 div.sk-label:hover label.sk-toggleable__label {background-color: #d4ebff;}#sk-container-id-5 div.sk-serial::before {content: \"\";position: absolute;border-left: 1px solid gray;box-sizing: border-box;top: 0;bottom: 0;left: 50%;z-index: 0;}#sk-container-id-5 div.sk-serial {display: flex;flex-direction: column;align-items: center;background-color: white;padding-right: 0.2em;padding-left: 0.2em;position: relative;}#sk-container-id-5 div.sk-item {position: relative;z-index: 1;}#sk-container-id-5 div.sk-parallel {display: flex;align-items: stretch;justify-content: center;background-color: white;position: relative;}#sk-container-id-5 div.sk-item::before, #sk-container-id-5 div.sk-parallel-item::before {content: \"\";position: absolute;border-left: 1px solid gray;box-sizing: border-box;top: 0;bottom: 0;left: 50%;z-index: -1;}#sk-container-id-5 div.sk-parallel-item {display: flex;flex-direction: column;z-index: 1;position: relative;background-color: white;}#sk-container-id-5 div.sk-parallel-item:first-child::after {align-self: flex-end;width: 50%;}#sk-container-id-5 div.sk-parallel-item:last-child::after {align-self: flex-start;width: 50%;}#sk-container-id-5 div.sk-parallel-item:only-child::after {width: 0;}#sk-container-id-5 div.sk-dashed-wrapped {border: 1px dashed gray;margin: 0 0.4em 0.5em 0.4em;box-sizing: border-box;padding-bottom: 0.4em;background-color: white;}#sk-container-id-5 div.sk-label label {font-family: monospace;font-weight: bold;display: inline-block;line-height: 1.2em;}#sk-container-id-5 div.sk-label-container {text-align: center;}#sk-container-id-5 div.sk-container {/* jupyter's `normalize.less` sets `[hidden] { display: none; }` but bootstrap.min.css set `[hidden] { display: none !important; }` so we also need the `!important` here to be able to override the default hidden behavior on the sphinx rendered scikit-learn.org. See: https://github.com/scikit-learn/scikit-learn/issues/21755 */display: inline-block !important;position: relative;}#sk-container-id-5 div.sk-text-repr-fallback {display: none;}</style><div id=\"sk-container-id-5\" class=\"sk-top-container\"><div class=\"sk-text-repr-fallback\"><pre>MultinomialNB()</pre><b>In a Jupyter environment, please rerun this cell to show the HTML representation or trust the notebook. <br />On GitHub, the HTML representation is unable to render, please try loading this page with nbviewer.org.</b></div><div class=\"sk-container\" hidden><div class=\"sk-item\"><div class=\"sk-estimator sk-toggleable\"><input class=\"sk-toggleable__control sk-hidden--visually\" id=\"sk-estimator-id-5\" type=\"checkbox\" checked><label for=\"sk-estimator-id-5\" class=\"sk-toggleable__label sk-toggleable__label-arrow\">MultinomialNB</label><div class=\"sk-toggleable__content\"><pre>MultinomialNB()</pre></div></div></div></div></div>"
      ],
      "text/plain": [
       "MultinomialNB()"
      ]
     },
     "execution_count": 161,
     "metadata": {},
     "output_type": "execute_result"
    }
   ],
   "source": [
    "# fit the models\n",
    "nb_model_unigrams_rm.fit(lyrics_train_unigrams_rm, song_train)\n",
    "nb_model_unigrams_all.fit(lyrics_train_unigrams_all, song_train)"
   ]
  },
  {
   "cell_type": "code",
   "execution_count": 162,
   "id": "82460b6d-a87c-4089-8d22-97450dfaa41b",
   "metadata": {},
   "outputs": [],
   "source": [
    "# make predictions\n",
    "preds_unigrams_rm = nb_model_unigrams_rm.predict(lyrics_test_unigrams_rm)\n",
    "preds_unigrams_all = nb_model_unigrams_all.predict(lyrics_test_unigrams_all)"
   ]
  },
  {
   "cell_type": "code",
   "execution_count": 163,
   "id": "4f83f78d-02ca-4f03-9a1f-bd59da24f0c2",
   "metadata": {},
   "outputs": [
    {
     "name": "stdout",
     "output_type": "stream",
     "text": [
      "Accuracy for unigram model with stopwords removed: 0.3756218905472637\n",
      "Accuracy for unigram model with stopwords retained: 0.39950248756218903\n"
     ]
    }
   ],
   "source": [
    "# compute accuracy scores\n",
    "accuracy_unigrams_rm = accuracy_score(song_test, preds_unigrams_rm)\n",
    "accuracy_unigrams_all = accuracy_score(song_test, preds_unigrams_all)\n",
    "print(\"Accuracy for unigram model with stopwords removed: \", accuracy_unigrams_rm, \"\\n\", \n",
    "      \"Accuracy for unigram model with stopwords retained: \", accuracy_unigrams_all, sep=\"\")"
   ]
  },
  {
   "cell_type": "markdown",
   "id": "894fd9e6-15d2-49e9-b520-249a0e4c762e",
   "metadata": {},
   "source": [
    "It looks like it is more helpful to removed stopwords. "
   ]
  },
  {
   "cell_type": "markdown",
   "id": "baae6993-6887-4827-935e-b1b8663b97bf",
   "metadata": {},
   "source": [
    "### Reusable functions: `predict_song` and `check_songs`"
   ]
  },
  {
   "cell_type": "markdown",
   "id": "da733d88-394c-4abd-b641-00306a0c9670",
   "metadata": {},
   "source": [
    "This is a function that takes in the NB model, the vectorizer, and a lyric (string), and it will output 1) the model's prediction of the song and 2) the 15 songs that the lyric is most likely to come from, including their associated probabilities. "
   ]
  },
  {
   "cell_type": "code",
   "execution_count": 164,
   "id": "5e615127-d850-49a6-be13-15d5cb664d7a",
   "metadata": {},
   "outputs": [],
   "source": [
    "def predict_song(model, vectorizer, lyric): \n",
    "    vec = vectorizer.transform([lyric])\n",
    "    song_prediction = model.predict(vec)\n",
    "    classes = model.classes_\n",
    "    top_15 = sorted(zip(model.predict_proba(vec)[0], classes), reverse=True)[:15]\n",
    "    return (song_prediction, top_15)"
   ]
  },
  {
   "cell_type": "markdown",
   "id": "ad60c348-27a9-4006-9e52-ff5474880840",
   "metadata": {},
   "source": [
    "This is a function that samples n random lyrics from the test set, and prints out the model's predicted song and the top 15 predictions, the actual correct song, as well as the lyric itself. More for fun than for actual model testing. "
   ]
  },
  {
   "cell_type": "code",
   "execution_count": 165,
   "id": "5e88a327-f624-4fe3-92b0-8be65ebb968e",
   "metadata": {},
   "outputs": [],
   "source": [
    "def check_songs(model, vectorizer, n=5, test_lyrics=lyrics_test, test_songs=song_test, random_state=21): \n",
    "    for lyric, correct_song in zip(test_lyrics.sample(n, random_state=random_state), test_songs.sample(n, random_state=random_state).values): \n",
    "        song_prediction, top_15 = predict_song(model, vectorizer, lyric)\n",
    "        print(\"Lyric: \", lyric, \"\\n\", \n",
    "              \"Predicted song: \", song_prediction, \"\\n\", \n",
    "              \"Correct song: \", correct_song, \"\\n\",\n",
    "              \"Top 15: \", top_15, \"\\n\\n\", sep=\"\")   "
   ]
  },
  {
   "cell_type": "code",
   "execution_count": 166,
   "id": "b55749e0-d7a2-43f9-985b-2ff0b46224d4",
   "metadata": {},
   "outputs": [
    {
     "name": "stdout",
     "output_type": "stream",
     "text": [
      "Lyric: Fell behind all my classmates and I ended up here\n",
      "Predicted song: ['Today Was A Fairytale']\n",
      "Correct song: this is me trying\n",
      "Top 15: [(0.02530754164099304, 'Today Was A Fairytale'), (0.01873254749197323, 'Getaway Car'), (0.018226304470134073, 'All Too Well 10'), (0.017413654308159037, 'long story short'), (0.011221515921588692, 'Timeless'), (0.01103570999073583, 'The Very First Night'), (0.010580784729557577, 'I Knew You Were Trouble'), (0.010487119587642776, 'All You Had To Do Was Stay'), (0.009566038663692832, 'This Love'), (0.009382365623234495, 'Innocent'), (0.00902211962818367, 'Mine'), (0.008972052734997828, 'Holy Ground'), (0.008741451286610828, 'I Bet You Think About Me'), (0.00757762086923376, 'Suburban Legends'), (0.007570231971710424, \"I'm Only Me When I'm With You\")]\n",
      "\n",
      "\n",
      "Lyric: Wind in my hair, I was there\n",
      "Predicted song: ['All Too Well 10']\n",
      "Correct song: All Too Well\n",
      "Top 15: [(0.24818842574285815, 'All Too Well 10'), (0.015907591187168935, 'All Too Well'), (0.015253552647641309, 'right where you left me'), (0.010566683253595091, 'willow'), (0.009292595440935839, 'Our Song'), (0.009189510441163163, 'Dress'), (0.009040182198596442, 'Shake It Off'), (0.00863150878448009, 'Wildest Dreams'), (0.008489105450102362, 'Timeless'), (0.00828520374331716, 'Jump Then Fall'), (0.007985936746678034, 'gold rush'), (0.0077737629389095396, 'Mastermind'), (0.007631168995478402, 'The Great War'), (0.00733312359534717, 'Karma'), (0.007015828726856996, 'Red')]\n",
      "\n",
      "\n",
      "Lyric: Forgetting him was like trying to know somebody you never met\n",
      "Predicted song: ['Red']\n",
      "Correct song: Red\n",
      "Top 15: [(0.5556260554250348, 'Red'), (0.04388373939290048, 'Everything Has Changed'), (0.028375827907820596, '22'), (0.02754093712417902, 'London Boy'), (0.02456799426289669, 'The Story Of Us'), (0.018430199885269477, \"I'm Only Me When I'm With You\"), (0.014895260620581142, 'this is me trying'), (0.00936696496726569, 'ME!'), (0.009168398198771749, 'cowboy like me'), (0.008217838855946893, 'Delicate'), (0.007121516143384483, 'Mean'), (0.006472623637629614, 'Last Kiss'), (0.00630725673321926, 'Hey Stephen'), (0.006051108514902594, 'All Too Well 10'), (0.005863895463558201, 'Better Man')]\n",
      "\n",
      "\n",
      "Lyric: Love slipped beyond your reaches\n",
      "Predicted song: ['This Love']\n",
      "Correct song: champagne problems\n",
      "Top 15: [(0.10449044324544268, 'This Love'), (0.02421775323118463, 'Blank Space'), (0.02286958864292115, 'London Boy'), (0.02211897773512264, 'cowboy like me'), (0.02112324877339168, 'You Are In Love'), (0.019021165042951847, 'Labyrinth'), (0.017002463704072178, 'Bad Blood'), (0.016472013612184408, 'Daylight'), (0.01547758560084102, 'Enchanted'), (0.015427241684960086, 'False God'), (0.015314390190975137, 'All Too Well 10'), (0.015059729521785598, 'august'), (0.014143076039279865, 'Timeless'), (0.014101287633330193, 'I Wish You Would'), (0.013985712941960162, 'Foolish One')]\n",
      "\n",
      "\n",
      "Lyric: I remember\n",
      "Predicted song: ['All Too Well 10']\n",
      "Correct song: Out Of The Woods\n",
      "Top 15: [(0.10406088238590197, 'All Too Well 10'), (0.03298234443621728, 'All Too Well'), (0.02201637978161993, 'Out Of The Woods'), (0.02117806967276309, 'Mine'), (0.01788087329476426, 'Wildest Dreams'), (0.0178090625586407, 'Bejeweled'), (0.016752782248940723, 'Never Grow Up'), (0.016494562672923225, 'Ronan'), (0.016012320278568675, 'I Wish You Would'), (0.013898628118434099, 'august'), (0.012878720043387502, 'Tell Me Why'), (0.012832030904702165, 'Long Live'), (0.011859855848081033, 'The Great War'), (0.010681461675221068, 'False God'), (0.00853526635735353, 'The Very First Night')]\n",
      "\n",
      "\n"
     ]
    }
   ],
   "source": [
    "check_songs(nb_model_unigrams_rm, vectorizer_unigrams_rm)"
   ]
  },
  {
   "cell_type": "code",
   "execution_count": 168,
   "id": "ac0c5a7a-2236-4e35-867f-380493124bf0",
   "metadata": {},
   "outputs": [
    {
     "name": "stdout",
     "output_type": "stream",
     "text": [
      "Lyric: And I chose you\n",
      "Predicted song: ['All Too Well 10']\n",
      "Correct song: Maroon\n",
      "Top 15: [(0.01070377287123913, 'All Too Well 10'), (0.008603693518145954, \"I'm Only Me When I'm With You\"), (0.008588956960592758, '22'), (0.007686177862520797, 'I Wish You Would'), (0.0073957432667351546, 'Call It What You Want'), (0.0073876508079150525, 'Blank Space'), (0.007253758817196911, 'Look What You Made Me Do'), (0.0072063486288492075, 'Everything Has Changed'), (0.00718555496547938, 'End Game'), (0.0071737314921981295, 'Getaway Car'), (0.006957668121332763, 'Shake It Off'), (0.006954160923233091, 'Dress'), (0.006918566538190607, 'happiness'), (0.006866069427876857, 'So It Goes...'), (0.006830360312100555, 'Delicate')]\n",
      "\n",
      "\n",
      "Lyric: You're gonna believe them\n",
      "Predicted song: ['Shake It Off']\n",
      "Correct song: Fifteen\n",
      "Top 15: [(0.07041325413815955, 'Shake It Off'), (0.03810926456471235, 'Bejeweled'), (0.03545467733705139, 'cowboy like me'), (0.03148617216167857, 'Timeless'), (0.029585780541975713, 'Fifteen'), (0.021566011396342583, 'Blank Space'), (0.021154746939232832, 'Miss Americana & The Heartbreak Prince'), (0.021056465949145817, 'Mean'), (0.019343305564522992, 'ME!'), (0.01843793928512368, 'Jump Then Fall'), (0.01601271818073378, 'Foolish One'), (0.015188964513951232, 'Mine'), (0.01286893688806083, 'Bigger Than The Whole Sky'), (0.011665614271861935, 'Better Than Revenge'), (0.011621230494743433, '...Ready For It?')]\n",
      "\n",
      "\n",
      "Lyric: Your string of lights are still bright to me, oh\n",
      "Predicted song: ['Innocent']\n",
      "Correct song: Innocent\n",
      "Top 15: [(0.13360502561512028, 'Innocent'), (0.0700371787820564, 'State Of Grace'), (0.03900459871930843, 'The Lucky One'), (0.03409972049785915, 'Is It Over Now?'), (0.024828142874919704, 'The Moment I Knew'), (0.02473113516288028, \"You're Not Sorry\"), (0.023705963088756502, 'New Romantics'), (0.023495932664709947, 'Dancing With Our Hands Tied'), (0.02348793686822443, 'You Need To Calm Down'), (0.021842925978012684, 'Getaway Car'), (0.01927286054365834, 'I Knew You Were Trouble'), (0.019058326664764057, 'Welcome To New York'), (0.018149156448782542, 'Love Story'), (0.01791909116205723, 'How You Get The Girl'), (0.015357337087587688, '22')]\n",
      "\n",
      "\n",
      "Lyric: While he was runnin' after us, I was screamin', \"Go, go, go!\"\n",
      "Predicted song: [\"Say Don't Go\"]\n",
      "Correct song: Getaway Car\n",
      "Top 15: [(0.04333047470869808, \"Say Don't Go\"), (0.02124907864359102, 'I Wish You Would'), (0.013326384326785354, 'The Other Side Of The Door'), (0.010418055398397809, 'Is It Over Now?'), (0.009615454099191146, 'All Too Well 10'), (0.007987490625265029, \"I'm Only Me When I'm With You\"), (0.007960151829713585, '22'), (0.0068857450991768225, 'Call It What You Want'), (0.00675805033845367, 'Blank Space'), (0.006736165515788559, 'Look What You Made Me Do'), (0.006648398824246185, 'Everything Has Changed'), (0.006588351499162023, 'Getaway Car'), (0.00649991862785377, 'End Game'), (0.0064742912145533855, 'So It Goes...'), (0.006456285926871976, 'happiness')]\n",
      "\n",
      "\n",
      "Lyric: Never take advice from someone who's falling apart\n",
      "Predicted song: ['Dear Reader']\n",
      "Correct song: Dear Reader\n",
      "Top 15: [(0.18524246618768794, 'Dear Reader'), (0.015030922164746354, 'Getaway Car'), (0.014390084036033188, 'gold rush'), (0.014305026752841623, 'All Too Well 10'), (0.011754418665272826, 'Castles Crumbling'), (0.010964616464400403, 'hoax'), (0.010333730328918248, 'A Perfectly Good Heart'), (0.009718286291106147, 'Come Back...Be Here'), (0.008581978460431135, 'All Too Well'), (0.008203132155713885, 'We Are Never Ever Getting Back Together'), (0.007754294355235273, 'The Moment I Knew'), (0.007535222123170914, 'Mr. Perfectly Fine'), (0.007439084630757025, 'Run'), (0.007410879102180164, 'Holy Ground'), (0.007381301436319876, 'Mine')]\n",
      "\n",
      "\n"
     ]
    }
   ],
   "source": [
    "check_songs(nb_model_unigrams_rm, vectorizer_unigrams_rm, random_state=3)"
   ]
  },
  {
   "cell_type": "code",
   "execution_count": 169,
   "id": "4b046817-c438-4ce2-b9b6-5547e93809b1",
   "metadata": {},
   "outputs": [
    {
     "name": "stdout",
     "output_type": "stream",
     "text": [
      "Lyric: And we fell down a rabbit hole\n",
      "Predicted song: ['long story short']\n",
      "Correct song: Wonderland\n",
      "Top 15: [(0.22241190642699163, 'long story short'), (0.020473185210198537, 'Today Was A Fairytale'), (0.014699764072329233, 'Getaway Car'), (0.013989861434338568, 'All Too Well 10'), (0.0089328309436789, 'The Very First Night'), (0.008891240537798651, 'Timeless'), (0.008473111774665518, 'I Knew You Were Trouble'), (0.0076077913969866025, 'This Love'), (0.007563636008105778, 'Innocent'), (0.007275188294348008, 'Run'), (0.00724760418400063, 'Holy Ground'), (0.00721867816700773, 'Mine'), (0.006969988367207225, 'I Bet You Think About Me'), (0.006005048171702458, \"I'm Only Me When I'm With You\"), (0.005974244337030376, '22')]\n",
      "\n",
      "\n",
      "Lyric: Look what you made me do\n",
      "Predicted song: ['Look What You Made Me Do']\n",
      "Correct song: Look What You Made Me Do\n",
      "Top 15: [(0.13816969070389865, 'Look What You Made Me Do'), (0.03135587306349674, 'Girl At Home'), (0.02047585329468981, 'Bad Blood'), (0.017711822042582825, 'Everything Has Changed'), (0.017485116320030237, 'Gorgeous'), (0.01700450888868098, 'happiness'), (0.015832506001209983, '22'), (0.01567724485299197, 'Daylight'), (0.013618071005339726, 'Blank Space'), (0.013337682940375739, 'Hey Stephen'), (0.01135431120710774, 'Long Live'), (0.009815610821921528, 'Ours'), (0.009634267838258, 'willow'), (0.009587081853455214, 'Mr. Perfectly Fine'), (0.008933174213717017, 'Dear John')]\n",
      "\n",
      "\n",
      "Lyric: Why'd you have to go and lock me out when I let you in?\n",
      "Predicted song: ['...Ready For It?']\n",
      "Correct song: All You Had To Do Was Stay\n",
      "Top 15: [(0.03483216619703462, '...Ready For It?'), (0.033955069222662775, \"I'm Only Me When I'm With You\"), (0.023519151914726404, 'All You Had To Do Was Stay'), (0.021453471057834052, 'This Love'), (0.016949249689217856, 'Run'), (0.016748724324855566, 'Daylight'), (0.015891108601895503, 'Never Grow Up'), (0.015737591076969967, 'Enchanted'), (0.015566800263081276, 'King Of My Heart'), (0.013603724217142813, \"That's When\"), (0.0133364515480944, 'Castles Crumbling'), (0.011595207547373719, 'Picture To Burn'), (0.011205461198219848, 'The Lucky One'), (0.011200535549793493, 'The Last Time'), (0.011137987530241145, \"Should've Said No\")]\n",
      "\n",
      "\n",
      "Lyric: Back then we didn't know\n",
      "Predicted song: ['marjorie']\n",
      "Correct song: The Very First Night\n",
      "Top 15: [(0.14104169135681408, 'marjorie'), (0.11529106447669908, 'Everything Has Changed'), (0.06743973629383707, 'High Infidelity'), (0.02663467064861225, 'Blank Space'), (0.025919997466803107, 'Forever Winter'), (0.015740056041184426, \"I'm Only Me When I'm With You\"), (0.015686182528930517, '22'), (0.014598896844891629, 'Better Man'), (0.01290005085777393, 'The Best Day'), (0.012885128880008331, 'I Know Places'), (0.011909577767704125, 'betty'), (0.010241238427570291, 'The Story Of Us'), (0.009134831496371221, 'Fifteen'), (0.009054705612082698, 'London Boy'), (0.009051170057218984, 'Wonderland')]\n",
      "\n",
      "\n",
      "Lyric: Don't forget, don't forget about me\n",
      "Predicted song: ['22']\n",
      "Correct song: Superman\n",
      "Top 15: [(0.22163416282874282, '22'), (0.17240768878446922, 'End Game'), (0.049418157683091386, \"Say Don't Go\"), (0.041691052273630715, \"Don't You\"), (0.0392770047701862, 'Never Grow Up'), (0.03402457995218457, 'Starlight'), (0.03000250968079015, \"I'm Only Me When I'm With You\"), (0.029536940775899117, 'Enchanted'), (0.026414506311430858, 'Afterglow'), (0.021664400724484962, 'I Wish You Would'), (0.020922954915836012, 'Look What You Made Me Do'), (0.016481879916381583, 'Girl At Home'), (0.013317349031539864, 'Come Back...Be Here'), (0.013289240429273782, 'Speak Now'), (0.012044155105428963, 'The Very First Night')]\n",
      "\n",
      "\n"
     ]
    }
   ],
   "source": [
    "check_songs(nb_model_unigrams_rm, vectorizer_unigrams_rm, random_state=13)"
   ]
  },
  {
   "cell_type": "markdown",
   "id": "564564d1-3ec3-4ef3-9307-07e7f86b7f58",
   "metadata": {},
   "source": [
    "### Model trained on unigrams and bigrams"
   ]
  },
  {
   "cell_type": "code",
   "execution_count": 170,
   "id": "9404194d-064b-4360-8d17-2021628fd211",
   "metadata": {},
   "outputs": [],
   "source": [
    "# initialize vectorizers (one with stopwords removed, other one retaining them)\n",
    "vectorizer_bigrams_rm = CountVectorizer(stop_words=\"english\", ngram_range=(1, 2))\n",
    "vectorizer_bigrams_all = CountVectorizer(ngram_range=(1, 2))"
   ]
  },
  {
   "cell_type": "code",
   "execution_count": 171,
   "id": "853c578a-2213-4cc2-867d-d8ac57dfa920",
   "metadata": {},
   "outputs": [],
   "source": [
    "# fit transform the training set\n",
    "lyrics_train_bigrams_rm = vectorizer_bigrams_rm.fit_transform(lyrics_train)\n",
    "lyrics_train_bigrams_all = vectorizer_bigrams_all.fit_transform(lyrics_train)"
   ]
  },
  {
   "cell_type": "code",
   "execution_count": 172,
   "id": "f4501f86-de64-490c-a5b8-74edd9e57cdc",
   "metadata": {},
   "outputs": [
    {
     "name": "stdout",
     "output_type": "stream",
     "text": [
      "(8040, 12630)\n",
      "(8040, 20674)\n"
     ]
    }
   ],
   "source": [
    "# observe the shapes - these matrices obviously have more features than when there were only unigrams\n",
    "print(lyrics_train_bigrams_rm.toarray().shape)\n",
    "print(lyrics_train_bigrams_all.toarray().shape)"
   ]
  },
  {
   "cell_type": "code",
   "execution_count": 173,
   "id": "0c2c59e4-1f1f-4a16-ad3b-e83be6835995",
   "metadata": {},
   "outputs": [],
   "source": [
    "# transform the testing set\n",
    "lyrics_test_bigrams_rm = vectorizer_bigrams_rm.transform(lyrics_test)\n",
    "lyrics_test_bigrams_all = vectorizer_bigrams_all.transform(lyrics_test)"
   ]
  },
  {
   "cell_type": "code",
   "execution_count": 174,
   "id": "24a854d9-83da-499c-925c-86ace98e82b1",
   "metadata": {},
   "outputs": [
    {
     "name": "stdout",
     "output_type": "stream",
     "text": [
      "(2010, 12630)\n",
      "(2010, 20674)\n"
     ]
    }
   ],
   "source": [
    "print(lyrics_test_bigrams_rm.toarray().shape)\n",
    "print(lyrics_test_bigrams_all.toarray().shape)"
   ]
  },
  {
   "cell_type": "code",
   "execution_count": 175,
   "id": "c473430c-03ad-4181-b602-1b1f88ae78ec",
   "metadata": {},
   "outputs": [],
   "source": [
    "# initialize NB models\n",
    "nb_model_bigrams_rm = MultinomialNB()\n",
    "nb_model_bigrams_all = MultinomialNB()"
   ]
  },
  {
   "cell_type": "code",
   "execution_count": 176,
   "id": "25c29b75-13ec-4ed9-a920-af459a128486",
   "metadata": {},
   "outputs": [
    {
     "data": {
      "text/html": [
       "<style>#sk-container-id-6 {color: black;background-color: white;}#sk-container-id-6 pre{padding: 0;}#sk-container-id-6 div.sk-toggleable {background-color: white;}#sk-container-id-6 label.sk-toggleable__label {cursor: pointer;display: block;width: 100%;margin-bottom: 0;padding: 0.3em;box-sizing: border-box;text-align: center;}#sk-container-id-6 label.sk-toggleable__label-arrow:before {content: \"▸\";float: left;margin-right: 0.25em;color: #696969;}#sk-container-id-6 label.sk-toggleable__label-arrow:hover:before {color: black;}#sk-container-id-6 div.sk-estimator:hover label.sk-toggleable__label-arrow:before {color: black;}#sk-container-id-6 div.sk-toggleable__content {max-height: 0;max-width: 0;overflow: hidden;text-align: left;background-color: #f0f8ff;}#sk-container-id-6 div.sk-toggleable__content pre {margin: 0.2em;color: black;border-radius: 0.25em;background-color: #f0f8ff;}#sk-container-id-6 input.sk-toggleable__control:checked~div.sk-toggleable__content {max-height: 200px;max-width: 100%;overflow: auto;}#sk-container-id-6 input.sk-toggleable__control:checked~label.sk-toggleable__label-arrow:before {content: \"▾\";}#sk-container-id-6 div.sk-estimator input.sk-toggleable__control:checked~label.sk-toggleable__label {background-color: #d4ebff;}#sk-container-id-6 div.sk-label input.sk-toggleable__control:checked~label.sk-toggleable__label {background-color: #d4ebff;}#sk-container-id-6 input.sk-hidden--visually {border: 0;clip: rect(1px 1px 1px 1px);clip: rect(1px, 1px, 1px, 1px);height: 1px;margin: -1px;overflow: hidden;padding: 0;position: absolute;width: 1px;}#sk-container-id-6 div.sk-estimator {font-family: monospace;background-color: #f0f8ff;border: 1px dotted black;border-radius: 0.25em;box-sizing: border-box;margin-bottom: 0.5em;}#sk-container-id-6 div.sk-estimator:hover {background-color: #d4ebff;}#sk-container-id-6 div.sk-parallel-item::after {content: \"\";width: 100%;border-bottom: 1px solid gray;flex-grow: 1;}#sk-container-id-6 div.sk-label:hover label.sk-toggleable__label {background-color: #d4ebff;}#sk-container-id-6 div.sk-serial::before {content: \"\";position: absolute;border-left: 1px solid gray;box-sizing: border-box;top: 0;bottom: 0;left: 50%;z-index: 0;}#sk-container-id-6 div.sk-serial {display: flex;flex-direction: column;align-items: center;background-color: white;padding-right: 0.2em;padding-left: 0.2em;position: relative;}#sk-container-id-6 div.sk-item {position: relative;z-index: 1;}#sk-container-id-6 div.sk-parallel {display: flex;align-items: stretch;justify-content: center;background-color: white;position: relative;}#sk-container-id-6 div.sk-item::before, #sk-container-id-6 div.sk-parallel-item::before {content: \"\";position: absolute;border-left: 1px solid gray;box-sizing: border-box;top: 0;bottom: 0;left: 50%;z-index: -1;}#sk-container-id-6 div.sk-parallel-item {display: flex;flex-direction: column;z-index: 1;position: relative;background-color: white;}#sk-container-id-6 div.sk-parallel-item:first-child::after {align-self: flex-end;width: 50%;}#sk-container-id-6 div.sk-parallel-item:last-child::after {align-self: flex-start;width: 50%;}#sk-container-id-6 div.sk-parallel-item:only-child::after {width: 0;}#sk-container-id-6 div.sk-dashed-wrapped {border: 1px dashed gray;margin: 0 0.4em 0.5em 0.4em;box-sizing: border-box;padding-bottom: 0.4em;background-color: white;}#sk-container-id-6 div.sk-label label {font-family: monospace;font-weight: bold;display: inline-block;line-height: 1.2em;}#sk-container-id-6 div.sk-label-container {text-align: center;}#sk-container-id-6 div.sk-container {/* jupyter's `normalize.less` sets `[hidden] { display: none; }` but bootstrap.min.css set `[hidden] { display: none !important; }` so we also need the `!important` here to be able to override the default hidden behavior on the sphinx rendered scikit-learn.org. See: https://github.com/scikit-learn/scikit-learn/issues/21755 */display: inline-block !important;position: relative;}#sk-container-id-6 div.sk-text-repr-fallback {display: none;}</style><div id=\"sk-container-id-6\" class=\"sk-top-container\"><div class=\"sk-text-repr-fallback\"><pre>MultinomialNB()</pre><b>In a Jupyter environment, please rerun this cell to show the HTML representation or trust the notebook. <br />On GitHub, the HTML representation is unable to render, please try loading this page with nbviewer.org.</b></div><div class=\"sk-container\" hidden><div class=\"sk-item\"><div class=\"sk-estimator sk-toggleable\"><input class=\"sk-toggleable__control sk-hidden--visually\" id=\"sk-estimator-id-6\" type=\"checkbox\" checked><label for=\"sk-estimator-id-6\" class=\"sk-toggleable__label sk-toggleable__label-arrow\">MultinomialNB</label><div class=\"sk-toggleable__content\"><pre>MultinomialNB()</pre></div></div></div></div></div>"
      ],
      "text/plain": [
       "MultinomialNB()"
      ]
     },
     "execution_count": 176,
     "metadata": {},
     "output_type": "execute_result"
    }
   ],
   "source": [
    "# fit the models\n",
    "nb_model_bigrams_rm.fit(lyrics_train_bigrams_rm, song_train)\n",
    "nb_model_bigrams_all.fit(lyrics_train_bigrams_all, song_train)"
   ]
  },
  {
   "cell_type": "code",
   "execution_count": 177,
   "id": "d2dae493-4c02-498e-98b4-a999aabeaf73",
   "metadata": {},
   "outputs": [],
   "source": [
    "# make predictions\n",
    "preds_bigrams_rm = nb_model_bigrams_rm.predict(lyrics_test_bigrams_rm)\n",
    "preds_bigrams_all = nb_model_bigrams_all.predict(lyrics_test_bigrams_all)"
   ]
  },
  {
   "cell_type": "code",
   "execution_count": 178,
   "id": "4b842aee-7a09-4860-a8a3-2c0c2157b7cd",
   "metadata": {},
   "outputs": [
    {
     "name": "stdout",
     "output_type": "stream",
     "text": [
      "Accuracy for unigram and bigram model with stopwords removed: 0.46616915422885574\n",
      "Accuracy for unigram and bigram model with stopwords retained: 0.5288557213930348\n"
     ]
    }
   ],
   "source": [
    "# compute accuracy scores\n",
    "accuracy_bigrams_rm = accuracy_score(song_test, preds_bigrams_rm)\n",
    "accuracy_bigrams_all = accuracy_score(song_test, preds_bigrams_all)\n",
    "print(\"Accuracy for unigram and bigram model with stopwords removed: \", accuracy_bigrams_rm, \"\\n\", \n",
    "      \"Accuracy for unigram and bigram model with stopwords retained: \", accuracy_bigrams_all, sep=\"\")"
   ]
  },
  {
   "cell_type": "code",
   "execution_count": 179,
   "id": "9935f345-7a03-4fda-80aa-8f70bf26b0af",
   "metadata": {},
   "outputs": [
    {
     "name": "stdout",
     "output_type": "stream",
     "text": [
      "Lyric: Fell behind all my classmates and I ended up here\n",
      "Predicted song: ['Today Was A Fairytale']\n",
      "Correct song: this is me trying\n",
      "Top 15: [(0.02506324088585431, 'Today Was A Fairytale'), (0.01912515351426839, 'Getaway Car'), (0.01907111616370117, 'All Too Well 10'), (0.017475317892038034, 'long story short'), (0.011343806353566964, 'Timeless'), (0.010923272071965468, 'The Very First Night'), (0.010582374796796959, 'I Knew You Were Trouble'), (0.010430009585089443, 'All You Had To Do Was Stay'), (0.009623930517986696, 'This Love'), (0.009320434097313977, 'Innocent'), (0.009023648921314477, 'Mine'), (0.008893268361431705, 'Holy Ground'), (0.008768056227737608, 'I Bet You Think About Me'), (0.007651838486878427, \"I'm Only Me When I'm With You\"), (0.007644724358352853, '22')]\n",
      "\n",
      "\n",
      "Lyric: Wind in my hair, I was there\n",
      "Predicted song: ['All Too Well 10']\n",
      "Correct song: All Too Well\n",
      "Top 15: [(0.6656986445977718, 'All Too Well 10'), (0.013880147253002172, 'All Too Well'), (0.0066555581283482814, 'right where you left me'), (0.004596089142680751, 'willow'), (0.004041007842064935, 'Dress'), (0.004038537633480441, 'Our Song'), (0.004000607810683424, 'Shake It Off'), (0.0037706238014328917, 'Wildest Dreams'), (0.0037200393962089637, 'Timeless'), (0.0036179948399194185, 'Jump Then Fall'), (0.003470845994004366, 'gold rush'), (0.003377945749538949, 'Mastermind'), (0.0033277790641741346, 'The Great War'), (0.003194253922969509, 'Karma'), (0.003068337799776103, 'Red')]\n",
      "\n",
      "\n",
      "Lyric: Forgetting him was like trying to know somebody you never met\n",
      "Predicted song: ['Red']\n",
      "Correct song: Red\n",
      "Top 15: [(0.9966793674824762, 'Red'), (0.0003284275247464209, 'Everything Has Changed'), (0.00021324948717286291, '22'), (0.000204722174381617, 'London Boy'), (0.0001816025854234888, 'The Story Of Us'), (0.00013779208406875814, \"I'm Only Me When I'm With You\"), (0.00010787805955432354, 'this is me trying'), (6.949290513052146e-05, 'ME!'), (6.783027992144875e-05, 'cowboy like me'), (6.125095836921284e-05, 'Delicate'), (5.27771046079065e-05, 'Mean'), (4.779870121324724e-05, 'Last Kiss'), (4.658895081999777e-05, 'Hey Stephen'), (4.641746789138766e-05, 'All Too Well 10'), (4.527012822345139e-05, 'Run')]\n",
      "\n",
      "\n",
      "Lyric: Love slipped beyond your reaches\n",
      "Predicted song: ['This Love']\n",
      "Correct song: champagne problems\n",
      "Top 15: [(0.10493509759437439, 'This Love'), (0.024777637823267085, 'Blank Space'), (0.023188412258939247, 'London Boy'), (0.021921384073110263, 'cowboy like me'), (0.021169113366271447, 'You Are In Love'), (0.018778793659597535, 'Labyrinth'), (0.017367921587288556, 'Bad Blood'), (0.016632251015140945, 'Daylight'), (0.015995618998762694, 'All Too Well 10'), (0.015491634591479168, 'Enchanted'), (0.015279203206732948, 'False God'), (0.014904209930008759, 'august'), (0.014333319840160364, 'I Wish You Would'), (0.014271676828184027, 'Timeless'), (0.014084343095123979, 'Foolish One')]\n",
      "\n",
      "\n",
      "Lyric: I remember\n",
      "Predicted song: ['All Too Well 10']\n",
      "Correct song: Out Of The Woods\n",
      "Top 15: [(0.10622293681433985, 'All Too Well 10'), (0.03296143641471115, 'All Too Well'), (0.021960135355499257, 'Out Of The Woods'), (0.02113563168061019, 'Mine'), (0.017872168295618593, 'Wildest Dreams'), (0.017833321787911926, 'Bejeweled'), (0.016784931666162947, 'Never Grow Up'), (0.016340039474027387, 'Ronan'), (0.016124208580310516, 'I Wish You Would'), (0.013810136056452805, 'august'), (0.012851589843086035, 'Long Live'), (0.012785366711379925, 'Tell Me Why'), (0.011848278691996596, 'The Great War'), (0.010617371834866902, 'False God'), (0.008473939704787582, 'The Very First Night')]\n",
      "\n",
      "\n"
     ]
    }
   ],
   "source": [
    "check_songs(nb_model_bigrams_rm, vectorizer_bigrams_rm)"
   ]
  },
  {
   "cell_type": "code",
   "execution_count": 180,
   "id": "7757405a-70bf-4b3f-9312-85e5f2ef9336",
   "metadata": {},
   "outputs": [
    {
     "data": {
      "text/plain": [
       "(array(['willow'], dtype='<U39'),\n",
       " [(0.997193683370179, 'willow'),\n",
       "  (0.00027241343261402235, 'The Man'),\n",
       "  (0.0001731881163337371, 'Better Man'),\n",
       "  (5.264701739113467e-05, 'Bejeweled'),\n",
       "  (5.243489074755659e-05, 'Mine'),\n",
       "  (5.2005440063009925e-05, 'Babe'),\n",
       "  (4.89191820985214e-05, 'I Think He Knows'),\n",
       "  (4.1877016866183017e-05, 'august'),\n",
       "  (2.6019123572055494e-05, 'Timeless'),\n",
       "  (2.5015330124976055e-05, 'I Did Something Bad'),\n",
       "  (2.4940073316007533e-05, 'Mean'),\n",
       "  (2.4127658456653617e-05, '...Ready For It?'),\n",
       "  (2.325441373662321e-05, 'Death By A Thousand Cuts'),\n",
       "  (2.321400918122227e-05, 'Girl At Home'),\n",
       "  (2.1999138458479298e-05, 'Foolish One')])"
      ]
     },
     "execution_count": 180,
     "metadata": {},
     "output_type": "execute_result"
    }
   ],
   "source": [
    "predict_song(nb_model_bigrams_rm, vectorizer_bigrams_rm, \"Wreck my plans, that's my man\")"
   ]
  },
  {
   "cell_type": "markdown",
   "id": "2ea6a9bb-3a2d-4ffd-8e07-447e1052d94e",
   "metadata": {},
   "source": [
    "The unigrams + bigrams model is much more confident in its predictions, which makes sense."
   ]
  },
  {
   "cell_type": "code",
   "execution_count": 181,
   "id": "67b6bccc-acc8-4481-99d1-db7b70bb6d89",
   "metadata": {},
   "outputs": [
    {
     "data": {
      "text/plain": [
       "((array(['coney island'], dtype='<U39'),\n",
       "  [(0.8400106567660309, 'coney island'),\n",
       "   (0.004643407904114179, 'Love Story'),\n",
       "   (0.004152097984757242, \"Would've, Could've, Should've\"),\n",
       "   (0.003802111983073004, 'Everything Has Changed'),\n",
       "   (0.002619121975771275, 'London Boy'),\n",
       "   (0.002431501003684468, 'Sparks Fly'),\n",
       "   (0.002250736050015099, 'So It Goes...'),\n",
       "   (0.002229120882557555, 'happiness'),\n",
       "   (0.002057075341418272, 'Bejeweled'),\n",
       "   (0.00200131220861887, 'Cruel Summer'),\n",
       "   (0.0019764223314305113, 'Wonderland'),\n",
       "   (0.0019293803929518372, 'cowboy like me'),\n",
       "   (0.0018229146766772153, 'The Last Time'),\n",
       "   (0.001649267842383858, 'Run'),\n",
       "   (0.0015860558640348739, 'Call It What You Want')]),\n",
       " (array(['coney island'], dtype='<U39'),\n",
       "  [(0.24958133539951213, 'coney island'),\n",
       "   (0.019712133972111277, \"Would've, Could've, Should've\"),\n",
       "   (0.01789978139943831, 'Everything Has Changed'),\n",
       "   (0.012367607350653419, 'London Boy'),\n",
       "   (0.011651090844188333, 'Sparks Fly'),\n",
       "   (0.011032758445048465, 'Love Story'),\n",
       "   (0.010689475293407183, 'So It Goes...'),\n",
       "   (0.010549442448294184, 'happiness'),\n",
       "   (0.009737017751426056, 'Bejeweled'),\n",
       "   (0.009457582091676181, 'Cruel Summer'),\n",
       "   (0.009362517068678938, 'Wonderland'),\n",
       "   (0.009190585061129353, 'cowboy like me'),\n",
       "   (0.008677705738586824, 'The Last Time'),\n",
       "   (0.00786527037352041, 'Run'),\n",
       "   (0.007483571556395814, 'Call It What You Want')]))"
      ]
     },
     "execution_count": 181,
     "metadata": {},
     "output_type": "execute_result"
    }
   ],
   "source": [
    "predict_song(nb_model_bigrams_rm, vectorizer_bigrams_rm, \"Disappointments, close your eyes\"), predict_song(nb_model_unigrams_rm, vectorizer_unigrams_rm, \"Disappointments, close your eyes\")"
   ]
  },
  {
   "cell_type": "code",
   "execution_count": 182,
   "id": "2a85e1ea-7b69-4594-a2f0-22c82d6164b4",
   "metadata": {},
   "outputs": [
    {
     "name": "stdout",
     "output_type": "stream",
     "text": [
      "Lyric: And I chose you\n",
      "Predicted song: ['All Too Well 10']\n",
      "Correct song: Maroon\n",
      "Top 15: [(0.010950737724026131, 'All Too Well 10'), (0.008651292228401181, \"I'm Only Me When I'm With You\"), (0.008647269618871547, '22'), (0.007757294179339282, 'I Wish You Would'), (0.007480406621253302, 'Blank Space'), (0.00742806331792825, 'Call It What You Want'), (0.007312212789116519, 'End Game'), (0.007293499875425897, 'Look What You Made Me Do'), (0.007267574445067379, 'Everything Has Changed'), (0.007249647798783373, 'Getaway Car'), (0.007073880528354188, 'Shake It Off'), (0.007015794619532247, 'Dress'), (0.006938247608389144, 'happiness'), (0.0068521634499028785, 'So It Goes...'), (0.0068340035342978585, 'Delicate')]\n",
      "\n",
      "\n",
      "Lyric: You're gonna believe them\n",
      "Predicted song: ['Fifteen']\n",
      "Correct song: Fifteen\n",
      "Top 15: [(0.08363287046425581, 'Fifteen'), (0.06744707662061201, 'Shake It Off'), (0.03608920459471683, 'Bejeweled'), (0.03335152628344587, 'cowboy like me'), (0.02986519787815517, 'Timeless'), (0.020601263606748774, 'Blank Space'), (0.020131821585948645, 'Miss Americana & The Heartbreak Prince'), (0.019902313752859068, 'Mean'), (0.018318993004925628, 'ME!'), (0.017427578631524956, 'Jump Then Fall'), (0.015155287719614214, 'Foolish One'), (0.014317311345515117, 'Mine'), (0.012060488245432585, 'Bigger Than The Whole Sky'), (0.011047671971808887, 'Better Than Revenge'), (0.010964698679112605, '...Ready For It?')]\n",
      "\n",
      "\n",
      "Lyric: Your string of lights are still bright to me, oh\n",
      "Predicted song: ['Innocent']\n",
      "Correct song: Innocent\n",
      "Top 15: [(0.7925360450183044, 'Innocent'), (0.020903582322454425, 'Welcome To New York'), (0.01537306152522962, 'State Of Grace'), (0.008545251227828642, 'The Lucky One'), (0.0074908457408466005, 'Is It Over Now?'), (0.005453642173816463, 'The Moment I Knew'), (0.00541529191990409, \"You're Not Sorry\"), (0.005246957754231814, 'New Romantics'), (0.005210770270864276, 'Dancing With Our Hands Tied'), (0.005136169742763103, 'You Need To Calm Down'), (0.004871066896782522, 'Getaway Car'), (0.0042500512596134726, 'I Knew You Were Trouble'), (0.004000037012842103, 'Love Story'), (0.003934428622461772, 'How You Get The Girl'), (0.0034280292555343727, '22')]\n",
      "\n",
      "\n",
      "Lyric: While he was runnin' after us, I was screamin', \"Go, go, go!\"\n",
      "Predicted song: [\"Say Don't Go\"]\n",
      "Correct song: Getaway Car\n",
      "Top 15: [(0.04364363206043309, \"Say Don't Go\"), (0.02163343681312427, 'I Wish You Would'), (0.01327748141138386, 'The Other Side Of The Door'), (0.010426902813890322, 'Is It Over Now?'), (0.010059317984117052, 'All Too Well 10'), (0.008072131262995422, \"I'm Only Me When I'm With You\"), (0.00806462637650589, '22'), (0.006942633427224928, 'Call It What You Want'), (0.006925400088300787, 'Blank Space'), (0.00680681957836439, 'Look What You Made Me Do'), (0.006758514624407887, 'Everything Has Changed'), (0.0067277629838678864, 'End Game'), (0.006725213810025247, 'Getaway Car'), (0.006519333070581518, 'Dress'), (0.006513459829320991, 'Shake It Off')]\n",
      "\n",
      "\n",
      "Lyric: Never take advice from someone who's falling apart\n",
      "Predicted song: ['Dear Reader']\n",
      "Correct song: Dear Reader\n",
      "Top 15: [(0.7828619911404282, 'Dear Reader'), (0.0040562857646182565, 'Getaway Car'), (0.003927422640205462, 'All Too Well 10'), (0.0038217265970349598, 'gold rush'), (0.0031150570213294777, 'Castles Crumbling'), (0.002892296445296505, 'hoax'), (0.002721294456410437, 'A Perfectly Good Heart'), (0.0025753492745938886, 'Come Back...Be Here'), (0.0022921450436469743, 'All Too Well'), (0.002191524592603051, 'We Are Never Ever Getting Back Together'), (0.002061890019517983, 'The Moment I Knew'), (0.0020095283026765076, 'Mr. Perfectly Fine'), (0.0019793164111175407, 'Run'), (0.001968315135593283, 'Holy Ground'), (0.001967029236197013, 'Mine')]\n",
      "\n",
      "\n"
     ]
    }
   ],
   "source": [
    "check_songs(nb_model_bigrams_rm, vectorizer_bigrams_rm, random_state=3)"
   ]
  },
  {
   "cell_type": "markdown",
   "id": "b4854ad8-09ad-4b07-9d73-215f61409b4e",
   "metadata": {},
   "source": [
    "### Model trained on unigrams, bigrams, and trigrams"
   ]
  },
  {
   "cell_type": "code",
   "execution_count": 183,
   "id": "18dd7072-2939-4a93-98f9-688169700bf4",
   "metadata": {},
   "outputs": [],
   "source": [
    "# initialize vectorizers with and without stopwords\n",
    "vectorizer_trigrams_rm = CountVectorizer(stop_words=\"english\", ngram_range=(1, 3))\n",
    "vectorizer_trigrams_all = CountVectorizer(ngram_range=(1, 3))"
   ]
  },
  {
   "cell_type": "code",
   "execution_count": 184,
   "id": "c6776aa9-c1d9-4974-85c2-42997f6bbd0b",
   "metadata": {},
   "outputs": [],
   "source": [
    "# fit transform the training set\n",
    "lyrics_train_trigrams_rm = vectorizer_trigrams_rm.fit_transform(lyrics_train)\n",
    "lyrics_train_trigrams_all = vectorizer_trigrams_all.fit_transform(lyrics_train)"
   ]
  },
  {
   "cell_type": "code",
   "execution_count": 185,
   "id": "2306b28f-e6b2-4349-abab-d50fb89f999b",
   "metadata": {},
   "outputs": [
    {
     "name": "stdout",
     "output_type": "stream",
     "text": [
      "(8040, 19035)\n",
      "(8040, 43524)\n"
     ]
    }
   ],
   "source": [
    "# observe the shapes - these matrices obviously have more features than when there were only unigrams\n",
    "print(lyrics_train_trigrams_rm.toarray().shape)\n",
    "print(lyrics_train_trigrams_all.toarray().shape)"
   ]
  },
  {
   "cell_type": "code",
   "execution_count": 186,
   "id": "eda3649c-9909-4c62-8cfe-f9dda4ab11b2",
   "metadata": {},
   "outputs": [],
   "source": [
    "# transform the testing set\n",
    "lyrics_test_trigrams_rm = vectorizer_trigrams_rm.transform(lyrics_test)\n",
    "lyrics_test_trigrams_all = vectorizer_trigrams_all.transform(lyrics_test)"
   ]
  },
  {
   "cell_type": "code",
   "execution_count": 187,
   "id": "b3e9d4a2-9caf-4548-bf92-b5cf18909b3a",
   "metadata": {},
   "outputs": [
    {
     "name": "stdout",
     "output_type": "stream",
     "text": [
      "(2010, 19035)\n",
      "(2010, 43524)\n"
     ]
    }
   ],
   "source": [
    "print(lyrics_test_trigrams_rm.toarray().shape)\n",
    "print(lyrics_test_trigrams_all.toarray().shape)"
   ]
  },
  {
   "cell_type": "code",
   "execution_count": 188,
   "id": "217b042b-d433-4386-8229-3e57aaa770e9",
   "metadata": {},
   "outputs": [],
   "source": [
    "nb_model_trigrams_rm = MultinomialNB()\n",
    "nb_model_trigrams_all = MultinomialNB()"
   ]
  },
  {
   "cell_type": "code",
   "execution_count": 189,
   "id": "6914800e-a6b1-4604-82f9-52a2684f000c",
   "metadata": {},
   "outputs": [
    {
     "data": {
      "text/html": [
       "<style>#sk-container-id-7 {color: black;background-color: white;}#sk-container-id-7 pre{padding: 0;}#sk-container-id-7 div.sk-toggleable {background-color: white;}#sk-container-id-7 label.sk-toggleable__label {cursor: pointer;display: block;width: 100%;margin-bottom: 0;padding: 0.3em;box-sizing: border-box;text-align: center;}#sk-container-id-7 label.sk-toggleable__label-arrow:before {content: \"▸\";float: left;margin-right: 0.25em;color: #696969;}#sk-container-id-7 label.sk-toggleable__label-arrow:hover:before {color: black;}#sk-container-id-7 div.sk-estimator:hover label.sk-toggleable__label-arrow:before {color: black;}#sk-container-id-7 div.sk-toggleable__content {max-height: 0;max-width: 0;overflow: hidden;text-align: left;background-color: #f0f8ff;}#sk-container-id-7 div.sk-toggleable__content pre {margin: 0.2em;color: black;border-radius: 0.25em;background-color: #f0f8ff;}#sk-container-id-7 input.sk-toggleable__control:checked~div.sk-toggleable__content {max-height: 200px;max-width: 100%;overflow: auto;}#sk-container-id-7 input.sk-toggleable__control:checked~label.sk-toggleable__label-arrow:before {content: \"▾\";}#sk-container-id-7 div.sk-estimator input.sk-toggleable__control:checked~label.sk-toggleable__label {background-color: #d4ebff;}#sk-container-id-7 div.sk-label input.sk-toggleable__control:checked~label.sk-toggleable__label {background-color: #d4ebff;}#sk-container-id-7 input.sk-hidden--visually {border: 0;clip: rect(1px 1px 1px 1px);clip: rect(1px, 1px, 1px, 1px);height: 1px;margin: -1px;overflow: hidden;padding: 0;position: absolute;width: 1px;}#sk-container-id-7 div.sk-estimator {font-family: monospace;background-color: #f0f8ff;border: 1px dotted black;border-radius: 0.25em;box-sizing: border-box;margin-bottom: 0.5em;}#sk-container-id-7 div.sk-estimator:hover {background-color: #d4ebff;}#sk-container-id-7 div.sk-parallel-item::after {content: \"\";width: 100%;border-bottom: 1px solid gray;flex-grow: 1;}#sk-container-id-7 div.sk-label:hover label.sk-toggleable__label {background-color: #d4ebff;}#sk-container-id-7 div.sk-serial::before {content: \"\";position: absolute;border-left: 1px solid gray;box-sizing: border-box;top: 0;bottom: 0;left: 50%;z-index: 0;}#sk-container-id-7 div.sk-serial {display: flex;flex-direction: column;align-items: center;background-color: white;padding-right: 0.2em;padding-left: 0.2em;position: relative;}#sk-container-id-7 div.sk-item {position: relative;z-index: 1;}#sk-container-id-7 div.sk-parallel {display: flex;align-items: stretch;justify-content: center;background-color: white;position: relative;}#sk-container-id-7 div.sk-item::before, #sk-container-id-7 div.sk-parallel-item::before {content: \"\";position: absolute;border-left: 1px solid gray;box-sizing: border-box;top: 0;bottom: 0;left: 50%;z-index: -1;}#sk-container-id-7 div.sk-parallel-item {display: flex;flex-direction: column;z-index: 1;position: relative;background-color: white;}#sk-container-id-7 div.sk-parallel-item:first-child::after {align-self: flex-end;width: 50%;}#sk-container-id-7 div.sk-parallel-item:last-child::after {align-self: flex-start;width: 50%;}#sk-container-id-7 div.sk-parallel-item:only-child::after {width: 0;}#sk-container-id-7 div.sk-dashed-wrapped {border: 1px dashed gray;margin: 0 0.4em 0.5em 0.4em;box-sizing: border-box;padding-bottom: 0.4em;background-color: white;}#sk-container-id-7 div.sk-label label {font-family: monospace;font-weight: bold;display: inline-block;line-height: 1.2em;}#sk-container-id-7 div.sk-label-container {text-align: center;}#sk-container-id-7 div.sk-container {/* jupyter's `normalize.less` sets `[hidden] { display: none; }` but bootstrap.min.css set `[hidden] { display: none !important; }` so we also need the `!important` here to be able to override the default hidden behavior on the sphinx rendered scikit-learn.org. See: https://github.com/scikit-learn/scikit-learn/issues/21755 */display: inline-block !important;position: relative;}#sk-container-id-7 div.sk-text-repr-fallback {display: none;}</style><div id=\"sk-container-id-7\" class=\"sk-top-container\"><div class=\"sk-text-repr-fallback\"><pre>MultinomialNB()</pre><b>In a Jupyter environment, please rerun this cell to show the HTML representation or trust the notebook. <br />On GitHub, the HTML representation is unable to render, please try loading this page with nbviewer.org.</b></div><div class=\"sk-container\" hidden><div class=\"sk-item\"><div class=\"sk-estimator sk-toggleable\"><input class=\"sk-toggleable__control sk-hidden--visually\" id=\"sk-estimator-id-7\" type=\"checkbox\" checked><label for=\"sk-estimator-id-7\" class=\"sk-toggleable__label sk-toggleable__label-arrow\">MultinomialNB</label><div class=\"sk-toggleable__content\"><pre>MultinomialNB()</pre></div></div></div></div></div>"
      ],
      "text/plain": [
       "MultinomialNB()"
      ]
     },
     "execution_count": 189,
     "metadata": {},
     "output_type": "execute_result"
    }
   ],
   "source": [
    "nb_model_trigrams_rm.fit(lyrics_train_trigrams_rm, song_train)\n",
    "nb_model_trigrams_all.fit(lyrics_train_trigrams_all, song_train)"
   ]
  },
  {
   "cell_type": "code",
   "execution_count": 190,
   "id": "7e74c9d6-370d-40a8-8c2d-c7eb0adddd58",
   "metadata": {},
   "outputs": [],
   "source": [
    "# make predictions\n",
    "preds_trigrams_rm = nb_model_trigrams_rm.predict(lyrics_test_trigrams_rm)\n",
    "preds_trigrams_all = nb_model_trigrams_all.predict(lyrics_test_trigrams_all)"
   ]
  },
  {
   "cell_type": "code",
   "execution_count": 191,
   "id": "c6aceb05-d5cf-4966-85af-d2a82a9fa703",
   "metadata": {},
   "outputs": [
    {
     "name": "stdout",
     "output_type": "stream",
     "text": [
      "Accuracy for (unigram, trigram) model with stopwords removed: 0.4771144278606965\n",
      "Accuracy for (unigram, trigram) model with stopwords retained: 0.5651741293532339\n"
     ]
    }
   ],
   "source": [
    "# compute accuracy scores\n",
    "accuracy_trigrams_rm = accuracy_score(song_test, preds_trigrams_rm)\n",
    "accuracy_trigrams_all = accuracy_score(song_test, preds_trigrams_all)\n",
    "print(\"Accuracy for (unigram, trigram) model with stopwords removed: \", accuracy_trigrams_rm, \"\\n\", \n",
    "      \"Accuracy for (unigram, trigram) model with stopwords retained: \", accuracy_trigrams_all, sep=\"\")"
   ]
  },
  {
   "cell_type": "code",
   "execution_count": 192,
   "id": "ea5255c4-dccd-409c-a766-d84d6ab2333c",
   "metadata": {},
   "outputs": [
    {
     "name": "stdout",
     "output_type": "stream",
     "text": [
      "Lyric: Fell behind all my classmates and I ended up here\n",
      "Predicted song: ['All Too Well 10']\n",
      "Correct song: this is me trying\n",
      "Top 15: [(0.43570324260846705, 'All Too Well 10'), (0.07689172605926287, 'King Of My Heart'), (0.07352940152314187, 'Castles Crumbling'), (0.05095098947229434, 'I Wish You Would'), (0.049755820230526306, 'Everything Has Changed'), (0.03203575139552464, \"I'm Only Me When I'm With You\"), (0.025254654434517517, 'All Too Well'), (0.022009565462996847, 'happiness'), (0.020020226263296744, 'Dress'), (0.014409466092154169, 'End Game'), (0.010071409132131566, 'Never Grow Up'), (0.008718347458867627, 'You Belong With Me'), (0.008443677140331354, 'Death By A Thousand Cuts'), (0.006251858611523574, 'long story short'), (0.005698166527652479, 'I Did Something Bad')]\n",
      "\n",
      "\n",
      "Lyric: Wind in my hair, I was there\n",
      "Predicted song: ['All Too Well 10']\n",
      "Correct song: All Too Well\n",
      "Top 15: [(0.9999999917825448, 'All Too Well 10'), (8.059531962609122e-09, 'All Too Well'), (1.345925691987082e-11, 'happiness'), (1.1442735926449118e-11, 'Timeless'), (1.1379266193613626e-11, 'Red'), (9.213755558232965e-12, 'Today Was A Fairytale'), (8.62586964007198e-12, 'The Moment I Knew'), (7.700468661082557e-12, 'The Great War'), (5.5528599328032214e-12, '...Ready For It?'), (5.223880241060032e-12, 'The Last Time'), (5.1712719447863314e-12, 'Dress'), (5.0165586647199535e-12, 'Karma'), (4.62114533101709e-12, 'Dancing With Our Hands Tied'), (3.6159803137264963e-12, 'Wildest Dreams'), (3.2967890598289312e-12, 'long story short')]\n",
      "\n",
      "\n",
      "Lyric: Forgetting him was like trying to know somebody you never met\n",
      "Predicted song: ['Red']\n",
      "Correct song: Red\n",
      "Top 15: [(0.9999999999988063, 'Red'), (5.672853439637403e-13, 'All Too Well 10'), (1.2180686295634083e-13, 'The Story Of Us'), (5.716952303346906e-14, 'Better Than Revenge'), (4.7019718274564867e-14, 'High Infidelity'), (3.0620747600698487e-14, 'cowboy like me'), (2.7025303089622878e-14, 'All You Had To Do Was Stay'), (2.6195351227084683e-14, 'Better Man'), (2.360507116005138e-14, '...Ready For It?'), (2.241171888684166e-14, 'Castles Crumbling'), (1.7710062014203017e-14, 'Love Story'), (1.573096638080865e-14, 'this is me trying'), (1.2028382163151788e-14, 'Getaway Car'), (1.1509492083136784e-14, 'Forever Winter'), (1.0984001052639644e-14, 'Enchanted')]\n",
      "\n",
      "\n",
      "Lyric: Love slipped beyond your reaches\n",
      "Predicted song: ['End Game']\n",
      "Correct song: champagne problems\n",
      "Top 15: [(0.07416751084826347, 'End Game'), (0.07328172782441288, 'This Love'), (0.03928926273498282, 'Foolish One'), (0.035051077231494754, 'All Too Well 10'), (0.029140585400711853, 'Blank Space'), (0.024575682505931867, 'You Are In Love'), (0.022637801900263793, 'Last Kiss'), (0.021769299538856896, 'Enchanted'), (0.018025207652717375, \"Don't Blame Me\"), (0.017714512199973723, 'High Infidelity'), (0.01682190810367777, 'Ours'), (0.016396467851221706, 'Timeless'), (0.01637295792480182, 'London Boy'), (0.015457149519502514, 'I Bet You Think About Me'), (0.01543355754642987, 'seven')]\n",
      "\n",
      "\n",
      "Lyric: I remember\n",
      "Predicted song: ['All Too Well 10']\n",
      "Correct song: Out Of The Woods\n",
      "Top 15: [(0.10565130646582245, 'All Too Well 10'), (0.03288001189774753, 'All Too Well'), (0.021641334706744432, 'Out Of The Woods'), (0.021134991161466877, 'Mine'), (0.01791628437009815, 'Wildest Dreams'), (0.017893634711549578, 'Bejeweled'), (0.016806296583644933, 'Never Grow Up'), (0.01635288783104775, 'Ronan'), (0.016151557201803775, 'I Wish You Would'), (0.013776152209242307, 'august'), (0.012866304287697835, 'Long Live'), (0.012761105452567902, 'Tell Me Why'), (0.011889184222788654, 'The Great War'), (0.01061343809259861, 'False God'), (0.008451068485747315, 'The Very First Night')]\n",
      "\n",
      "\n"
     ]
    }
   ],
   "source": [
    "check_songs(nb_model_trigrams_all, vectorizer_trigrams_all)"
   ]
  },
  {
   "cell_type": "markdown",
   "id": "a2a27b41-fbb0-4448-89b8-22c46a48065b",
   "metadata": {},
   "source": [
    "### Model trained on bigrams and trigrams\n",
    "\n",
    "A concern when it comes to utlizing unigrams as features is that the model will weigh individual words that appear in a song many times very highly if that word appears in a different song even just once. For example, any lyric containing the word \"all\" is likely to output All Too Well in its list of predictions. "
   ]
  },
  {
   "cell_type": "code",
   "execution_count": 195,
   "id": "32eebbd1-625e-466c-8e85-d3aaa06ffb25",
   "metadata": {},
   "outputs": [
    {
     "data": {
      "text/plain": [
       "(array(['Everything Has Changed'], dtype='<U39'),\n",
       " [(0.9130568202617246, 'Everything Has Changed'),\n",
       "  (0.0072120601522594665, 'All You Had To Do Was Stay'),\n",
       "  (0.005467464017994903, 'All Too Well 10'),\n",
       "  (0.0023475970730876825, 'London Boy'),\n",
       "  (0.002219905061991272, 'Delicate'),\n",
       "  (0.002127649267207212, 'You Belong With Me'),\n",
       "  (0.0019741113906986325, \"I'm Only Me When I'm With You\"),\n",
       "  (0.0018684363314578306, 'So It Goes...'),\n",
       "  (0.0017808592673787208, 'All Too Well'),\n",
       "  (0.0017238430159414483, 'The Story Of Us'),\n",
       "  (0.0015025077559177296, 'betty'),\n",
       "  (0.0014830029704618732, 'Enchanted'),\n",
       "  (0.001384155920607818, 'long story short'),\n",
       "  (0.0013574805174089652, 'The Best Day'),\n",
       "  (0.001264716272841617, 'Mean')])"
      ]
     },
     "execution_count": 195,
     "metadata": {},
     "output_type": "execute_result"
    }
   ],
   "source": [
    "predict_song(nb_model_trigrams_all, vectorizer_trigrams_all, \"all i know\")"
   ]
  },
  {
   "cell_type": "code",
   "execution_count": 251,
   "id": "cd737911-e779-4f00-916d-e4b06f5c2710",
   "metadata": {},
   "outputs": [],
   "source": [
    "# initialize vectorizers (one with stopwords removed, other one retaining them)\n",
    "vectorizer_tri_rm = CountVectorizer(stop_words=\"english\", ngram_range=(2, 3))\n",
    "vectorizer_tri_all = CountVectorizer(ngram_range=(2, 3))"
   ]
  },
  {
   "cell_type": "code",
   "execution_count": 252,
   "id": "92baf9fb-3726-49d4-8962-4d1b5906d298",
   "metadata": {},
   "outputs": [],
   "source": [
    "# fit transform the training set\n",
    "lyrics_train_tri_rm = vectorizer_tri_rm.fit_transform(lyrics_train)\n",
    "lyrics_train_tri_all = vectorizer_tri_all.fit_transform(lyrics_train)"
   ]
  },
  {
   "cell_type": "code",
   "execution_count": 253,
   "id": "b297cb08-9629-47f6-8f9b-2e61ae0b539d",
   "metadata": {},
   "outputs": [
    {
     "name": "stdout",
     "output_type": "stream",
     "text": [
      "(8040, 15701)\n",
      "(8040, 39957)\n"
     ]
    }
   ],
   "source": [
    "# observe the shapes\n",
    "print(lyrics_train_tri_rm.toarray().shape)\n",
    "print(lyrics_train_tri_all.toarray().shape)"
   ]
  },
  {
   "cell_type": "code",
   "execution_count": 254,
   "id": "6fe876be-64a8-466c-aca2-374945650059",
   "metadata": {},
   "outputs": [],
   "source": [
    "# transform the testing set\n",
    "lyrics_test_tri_rm = vectorizer_tri_rm.transform(lyrics_test)\n",
    "lyrics_test_tri_all = vectorizer_tri_all.transform(lyrics_test)"
   ]
  },
  {
   "cell_type": "code",
   "execution_count": 255,
   "id": "23c4208e-c213-4a0c-9e00-82a99294243c",
   "metadata": {},
   "outputs": [
    {
     "name": "stdout",
     "output_type": "stream",
     "text": [
      "(2010, 15701)\n",
      "(2010, 39957)\n"
     ]
    }
   ],
   "source": [
    "print(lyrics_test_tri_rm.toarray().shape)\n",
    "print(lyrics_test_tri_all.toarray().shape)"
   ]
  },
  {
   "cell_type": "code",
   "execution_count": 256,
   "id": "328ec4d9-52c4-4b20-b751-f668f046e183",
   "metadata": {},
   "outputs": [],
   "source": [
    "nb_model_tri_rm = MultinomialNB()\n",
    "nb_model_tri_all = MultinomialNB()"
   ]
  },
  {
   "cell_type": "code",
   "execution_count": 257,
   "id": "d59582db-57e7-4759-aae5-91ecca776ab2",
   "metadata": {},
   "outputs": [
    {
     "data": {
      "text/html": [
       "<style>#sk-container-id-11 {color: black;background-color: white;}#sk-container-id-11 pre{padding: 0;}#sk-container-id-11 div.sk-toggleable {background-color: white;}#sk-container-id-11 label.sk-toggleable__label {cursor: pointer;display: block;width: 100%;margin-bottom: 0;padding: 0.3em;box-sizing: border-box;text-align: center;}#sk-container-id-11 label.sk-toggleable__label-arrow:before {content: \"▸\";float: left;margin-right: 0.25em;color: #696969;}#sk-container-id-11 label.sk-toggleable__label-arrow:hover:before {color: black;}#sk-container-id-11 div.sk-estimator:hover label.sk-toggleable__label-arrow:before {color: black;}#sk-container-id-11 div.sk-toggleable__content {max-height: 0;max-width: 0;overflow: hidden;text-align: left;background-color: #f0f8ff;}#sk-container-id-11 div.sk-toggleable__content pre {margin: 0.2em;color: black;border-radius: 0.25em;background-color: #f0f8ff;}#sk-container-id-11 input.sk-toggleable__control:checked~div.sk-toggleable__content {max-height: 200px;max-width: 100%;overflow: auto;}#sk-container-id-11 input.sk-toggleable__control:checked~label.sk-toggleable__label-arrow:before {content: \"▾\";}#sk-container-id-11 div.sk-estimator input.sk-toggleable__control:checked~label.sk-toggleable__label {background-color: #d4ebff;}#sk-container-id-11 div.sk-label input.sk-toggleable__control:checked~label.sk-toggleable__label {background-color: #d4ebff;}#sk-container-id-11 input.sk-hidden--visually {border: 0;clip: rect(1px 1px 1px 1px);clip: rect(1px, 1px, 1px, 1px);height: 1px;margin: -1px;overflow: hidden;padding: 0;position: absolute;width: 1px;}#sk-container-id-11 div.sk-estimator {font-family: monospace;background-color: #f0f8ff;border: 1px dotted black;border-radius: 0.25em;box-sizing: border-box;margin-bottom: 0.5em;}#sk-container-id-11 div.sk-estimator:hover {background-color: #d4ebff;}#sk-container-id-11 div.sk-parallel-item::after {content: \"\";width: 100%;border-bottom: 1px solid gray;flex-grow: 1;}#sk-container-id-11 div.sk-label:hover label.sk-toggleable__label {background-color: #d4ebff;}#sk-container-id-11 div.sk-serial::before {content: \"\";position: absolute;border-left: 1px solid gray;box-sizing: border-box;top: 0;bottom: 0;left: 50%;z-index: 0;}#sk-container-id-11 div.sk-serial {display: flex;flex-direction: column;align-items: center;background-color: white;padding-right: 0.2em;padding-left: 0.2em;position: relative;}#sk-container-id-11 div.sk-item {position: relative;z-index: 1;}#sk-container-id-11 div.sk-parallel {display: flex;align-items: stretch;justify-content: center;background-color: white;position: relative;}#sk-container-id-11 div.sk-item::before, #sk-container-id-11 div.sk-parallel-item::before {content: \"\";position: absolute;border-left: 1px solid gray;box-sizing: border-box;top: 0;bottom: 0;left: 50%;z-index: -1;}#sk-container-id-11 div.sk-parallel-item {display: flex;flex-direction: column;z-index: 1;position: relative;background-color: white;}#sk-container-id-11 div.sk-parallel-item:first-child::after {align-self: flex-end;width: 50%;}#sk-container-id-11 div.sk-parallel-item:last-child::after {align-self: flex-start;width: 50%;}#sk-container-id-11 div.sk-parallel-item:only-child::after {width: 0;}#sk-container-id-11 div.sk-dashed-wrapped {border: 1px dashed gray;margin: 0 0.4em 0.5em 0.4em;box-sizing: border-box;padding-bottom: 0.4em;background-color: white;}#sk-container-id-11 div.sk-label label {font-family: monospace;font-weight: bold;display: inline-block;line-height: 1.2em;}#sk-container-id-11 div.sk-label-container {text-align: center;}#sk-container-id-11 div.sk-container {/* jupyter's `normalize.less` sets `[hidden] { display: none; }` but bootstrap.min.css set `[hidden] { display: none !important; }` so we also need the `!important` here to be able to override the default hidden behavior on the sphinx rendered scikit-learn.org. See: https://github.com/scikit-learn/scikit-learn/issues/21755 */display: inline-block !important;position: relative;}#sk-container-id-11 div.sk-text-repr-fallback {display: none;}</style><div id=\"sk-container-id-11\" class=\"sk-top-container\"><div class=\"sk-text-repr-fallback\"><pre>MultinomialNB()</pre><b>In a Jupyter environment, please rerun this cell to show the HTML representation or trust the notebook. <br />On GitHub, the HTML representation is unable to render, please try loading this page with nbviewer.org.</b></div><div class=\"sk-container\" hidden><div class=\"sk-item\"><div class=\"sk-estimator sk-toggleable\"><input class=\"sk-toggleable__control sk-hidden--visually\" id=\"sk-estimator-id-11\" type=\"checkbox\" checked><label for=\"sk-estimator-id-11\" class=\"sk-toggleable__label sk-toggleable__label-arrow\">MultinomialNB</label><div class=\"sk-toggleable__content\"><pre>MultinomialNB()</pre></div></div></div></div></div>"
      ],
      "text/plain": [
       "MultinomialNB()"
      ]
     },
     "execution_count": 257,
     "metadata": {},
     "output_type": "execute_result"
    }
   ],
   "source": [
    "nb_model_tri_rm.fit(lyrics_train_tri_rm, song_train)\n",
    "nb_model_tri_all.fit(lyrics_train_tri_all, song_train)"
   ]
  },
  {
   "cell_type": "code",
   "execution_count": 258,
   "id": "c2f66587-43c5-4211-9ce2-70757656acc2",
   "metadata": {},
   "outputs": [],
   "source": [
    "# make predictions\n",
    "preds_tri_rm = nb_model_tri_rm.predict(lyrics_test_tri_rm)\n",
    "preds_tri_all = nb_model_tri_all.predict(lyrics_test_tri_all)"
   ]
  },
  {
   "cell_type": "code",
   "execution_count": 259,
   "id": "503f23b7-014a-451c-a4a2-9b8e226bdd66",
   "metadata": {},
   "outputs": [
    {
     "name": "stdout",
     "output_type": "stream",
     "text": [
      "Accuracy for (bigram, trigram) model with stopwords removed: 0.4407960199004975\n",
      "Accuracy for (bigram, trigram) model with stopwords retained: 0.5761194029850746\n"
     ]
    }
   ],
   "source": [
    "# compute accuracy scores\n",
    "accuracy_tri_rm = accuracy_score(song_test, preds_tri_rm)\n",
    "accuracy_tri_all = accuracy_score(song_test, preds_tri_all)\n",
    "print(\"Accuracy for (bigram, trigram) model with stopwords removed: \", accuracy_tri_rm, \"\\n\", \n",
    "      \"Accuracy for (bigram, trigram) model with stopwords retained: \", accuracy_tri_all, sep=\"\")"
   ]
  },
  {
   "cell_type": "code",
   "execution_count": 260,
   "id": "99159d0d-e2fb-4b69-ae93-2a80bb588b63",
   "metadata": {},
   "outputs": [],
   "source": [
    "best_model = nb_model_tri_all"
   ]
  },
  {
   "cell_type": "markdown",
   "id": "61da9b08-4873-4361-9a4e-6e4d1e5da019",
   "metadata": {},
   "source": [
    "It looks like the main source of misclassification is short lyrics consisting of fewer than 5 words. This makes sense, because something like \"Oh, oh\" is much harder to pinpoint than, say, \"One night, he wakes, strange look on his face.\" It looks like if the model is to be used as support in tayLyrics, it would only be actually helpful if we use lyrics of sufficient length. "
   ]
  },
  {
   "cell_type": "code",
   "execution_count": 350,
   "id": "00372993-2904-4e95-8faf-036b3a6bc386",
   "metadata": {},
   "outputs": [],
   "source": [
    "taylor_long = taylor[taylor['lyric'].str.split().apply(len) > 3]"
   ]
  },
  {
   "cell_type": "code",
   "execution_count": 351,
   "id": "aae2d353-4135-4f75-8e2d-5f1a87b7b551",
   "metadata": {},
   "outputs": [],
   "source": [
    "random_test = taylor_long.sample(2000, random_state=21)\n",
    "rand_lyrics = random_test[\"lyric\"]\n",
    "rand_songs = random_test[\"track_name\"]"
   ]
  },
  {
   "cell_type": "code",
   "execution_count": 352,
   "id": "543342b8-f57b-4182-9496-2966c29754eb",
   "metadata": {},
   "outputs": [],
   "source": [
    "vectorizer_long = vectorizer_tri_all.transform(rand_lyrics)"
   ]
  },
  {
   "cell_type": "code",
   "execution_count": 353,
   "id": "8ecd6edb-530e-44d4-9261-895cbcaf409a",
   "metadata": {},
   "outputs": [],
   "source": [
    "rand_preds = best_model.predict(vectorizer_long)"
   ]
  },
  {
   "cell_type": "code",
   "execution_count": 354,
   "id": "14e6b999-9b58-4d8b-a157-243f4f78a71e",
   "metadata": {},
   "outputs": [
    {
     "data": {
      "text/plain": [
       "0.9035"
      ]
     },
     "execution_count": 354,
     "metadata": {},
     "output_type": "execute_result"
    }
   ],
   "source": [
    "accuracy_score(rand_songs, rand_preds)"
   ]
  },
  {
   "cell_type": "markdown",
   "id": "4cdac899-ef16-4dd4-bd44-24dc161edd50",
   "metadata": {},
   "source": [
    "### Playing around with the best model"
   ]
  },
  {
   "cell_type": "code",
   "execution_count": 317,
   "id": "3ea67f1a-2786-4111-9541-30ed4bd6d729",
   "metadata": {},
   "outputs": [
    {
     "data": {
      "text/plain": [
       "(array(['End Game'], dtype='<U39'),\n",
       " [(0.9999790643401751, 'End Game'),\n",
       "  (2.6959459926663996e-06, 'Getaway Car'),\n",
       "  (4.949882415977247e-07, 'no body, no crime'),\n",
       "  (4.894067756717157e-07, 'The Very First Night'),\n",
       "  (4.878019417276862e-07, 'Dress'),\n",
       "  (4.12009933151888e-07, 'Dancing With Our Hands Tied'),\n",
       "  (3.883941508393997e-07, 'ME!'),\n",
       "  (3.8217130426758094e-07, 'All Too Well 10'),\n",
       "  (3.737777993927537e-07, 'I Bet You Think About Me'),\n",
       "  (3.086296554867145e-07, 'Bye Bye Baby'),\n",
       "  (2.943184092186004e-07, 'Come Back...Be Here'),\n",
       "  (2.798071430575251e-07, 'We Are Never Ever Getting Back Together'),\n",
       "  (2.74563126633123e-07, 'False God'),\n",
       "  (2.1520627356057965e-07, '22'),\n",
       "  (2.0432600526328306e-07, 'New Romantics')])"
      ]
     },
     "execution_count": 317,
     "metadata": {},
     "output_type": "execute_result"
    }
   ],
   "source": [
    "predict_song(best_model, vectorizer_tri_all, \"I hit you like bang, we tried to forget it, but we just couldn't\") # correct"
   ]
  },
  {
   "cell_type": "code",
   "execution_count": 318,
   "id": "3cbf5cba-3f91-4d24-873e-9d10d1720d44",
   "metadata": {},
   "outputs": [
    {
     "data": {
      "text/plain": [
       "(array(['Call It What You Want'], dtype='<U39'),\n",
       " [(0.9962779187541664, 'Call It What You Want'),\n",
       "  (0.00014050839958826736, \"Don't Blame Me\"),\n",
       "  (7.874287026041877e-05, 'Death By A Thousand Cuts'),\n",
       "  (6.433532886879519e-05, 'coney island'),\n",
       "  (3.344624218687505e-05, 'All Too Well 10'),\n",
       "  (3.3121374566584174e-05, \"This Is Why We Can't Have Nice Things\"),\n",
       "  (3.0068611687371044e-05, '22'),\n",
       "  (2.897518334453782e-05, \"I'm Only Me When I'm With You\"),\n",
       "  (2.6385604414136923e-05, 'I Wish You Would'),\n",
       "  (2.5982371700955625e-05, 'Blank Space'),\n",
       "  (2.5264818136272848e-05, 'Everything Has Changed'),\n",
       "  (2.462287074562163e-05, 'Getaway Car'),\n",
       "  (2.457927116282166e-05, 'Look What You Made Me Do'),\n",
       "  (2.4340772408920167e-05, 'So It Goes...'),\n",
       "  (2.431428837366203e-05, 'End Game')])"
      ]
     },
     "execution_count": 318,
     "metadata": {},
     "output_type": "execute_result"
    }
   ],
   "source": [
    "predict_song(best_model, vectorizer_tri_all, \"My baby's fly like a jet stream\")"
   ]
  },
  {
   "cell_type": "code",
   "execution_count": 319,
   "id": "9fa62af7-b31e-4e51-8df1-2a36948ed151",
   "metadata": {},
   "outputs": [
    {
     "data": {
      "text/plain": [
       "(array(['Lover'], dtype='<U39'),\n",
       " [(0.8661052291236252, 'Lover'),\n",
       "  (0.0032353129054091302, 'betty'),\n",
       "  (0.0027721260161374024, 'Nothing New'),\n",
       "  (0.0020309704757076196, 'Love Story'),\n",
       "  (0.0019743916450157247, 'Stay Beautiful'),\n",
       "  (0.0015252970044637771, 'Long Live'),\n",
       "  (0.0012545514204597603, 'august'),\n",
       "  (0.0011553445835073512, 'All Too Well 10'),\n",
       "  (0.0010726491515541325, '22'),\n",
       "  (0.001025169271188413, \"I'm Only Me When I'm With You\"),\n",
       "  (0.0009359861012582924, 'I Wish You Would'),\n",
       "  (0.0009251419140731085, 'Blank Space'),\n",
       "  (0.0009006586679908218, 'Everything Has Changed'),\n",
       "  (0.000899179382610405, 'Call It What You Want'),\n",
       "  (0.000874093432210988, 'So It Goes...')])"
      ]
     },
     "execution_count": 319,
     "metadata": {},
     "output_type": "execute_result"
    }
   ],
   "source": [
    "predict_song(best_model, vectorizer_tri_all, \"Ladies and gentlemen, will you please stand?\")"
   ]
  },
  {
   "cell_type": "code",
   "execution_count": 320,
   "id": "bcdbd2c6-e9dc-4534-944f-ee2c6d8c5ffc",
   "metadata": {},
   "outputs": [
    {
     "data": {
      "text/plain": [
       "(array(['Treacherous'], dtype='<U39'),\n",
       " [(0.9986473272650471, 'Treacherous'),\n",
       "  (2.2626558942680883e-05, 'All Too Well 10'),\n",
       "  (1.798647202589803e-05, 'Fifteen'),\n",
       "  (1.554177459762014e-05, 'Cruel Summer'),\n",
       "  (1.5275959854252726e-05, 'The Very First Night'),\n",
       "  (1.5231053307945232e-05, 'Jump Then Fall'),\n",
       "  (1.4129885315009038e-05, 'All Too Well'),\n",
       "  (1.3809034068256999e-05, 'Death By A Thousand Cuts'),\n",
       "  (1.3291609210075265e-05, 'The Moment I Knew'),\n",
       "  (1.3258345557807187e-05, 'Love Story'),\n",
       "  (1.3224068505644519e-05, 'Red'),\n",
       "  (1.3157876841390851e-05, 'This Love'),\n",
       "  (1.2528107157660476e-05, 'State Of Grace'),\n",
       "  (1.1895212161559937e-05, 'Anti-Hero'),\n",
       "  (1.1734219298625625e-05, 'The Other Side Of The Door')])"
      ]
     },
     "execution_count": 320,
     "metadata": {},
     "output_type": "execute_result"
    }
   ],
   "source": [
    "predict_song(best_model, vectorizer_tri_all, \"Two headlights shine through the sleepless night\")"
   ]
  },
  {
   "cell_type": "code",
   "execution_count": 321,
   "id": "be4d6a5f-db7d-4afd-9289-ed224bad8dab",
   "metadata": {},
   "outputs": [
    {
     "data": {
      "text/plain": [
       "(array(['I Almost Do'], dtype='<U39'),\n",
       " [(0.9977427800714883, 'I Almost Do'),\n",
       "  (0.0005239637882887701, \"'tis the damn season\"),\n",
       "  (0.00023836386238914795, 'Tell Me Why'),\n",
       "  (0.00012102298639821544, 'Better Man'),\n",
       "  (7.766619487065169e-05, \"New Year's Day\"),\n",
       "  (5.462284821219675e-05, 'The Very First Night'),\n",
       "  (3.837941423811344e-05, 'Wonderland'),\n",
       "  (3.729137494873231e-05, 'Today Was A Fairytale'),\n",
       "  (3.028038559404978e-05, 'Message In A Bottle'),\n",
       "  (2.798968179722552e-05, 'Miss Americana & The Heartbreak Prince'),\n",
       "  (2.675302111078317e-05, '22'),\n",
       "  (2.5676609579987984e-05, 'End Game'),\n",
       "  (2.181028706725997e-05, 'Gorgeous'),\n",
       "  (2.0338233932222156e-05, 'betty'),\n",
       "  (2.0241643406920995e-05, 'Bad Blood')])"
      ]
     },
     "execution_count": 321,
     "metadata": {},
     "output_type": "execute_result"
    }
   ],
   "source": [
    "predict_song(best_model, vectorizer_tri_all, \"That I can't say hello to you and risk another goodbye\")"
   ]
  },
  {
   "cell_type": "code",
   "execution_count": 322,
   "id": "564d99fc-7e10-47b6-804f-7b4e460b4f1e",
   "metadata": {},
   "outputs": [
    {
     "data": {
      "text/plain": [
       "(array(['We Are Never Ever Getting Back Together'], dtype='<U39'),\n",
       " [(0.9139705509863931, 'We Are Never Ever Getting Back Together'),\n",
       "  (0.08353574247668508, 'ME!'),\n",
       "  (0.0021648484236013988, 'dorothea'),\n",
       "  (0.00032640724907036624, 'invisible string'),\n",
       "  (1.5413107963626675e-06, \"Would've, Could've, Should've\"),\n",
       "  (7.435557292461757e-07, 'Dancing With Our Hands Tied'),\n",
       "  (7.257702198174102e-08, 'High Infidelity'),\n",
       "  (6.449194674333262e-08, 'exile'),\n",
       "  (6.29221462621261e-09, 'Sweet Nothing'),\n",
       "  (6.067110938799289e-09, 'Starlight'),\n",
       "  (1.0887070241695766e-09, 'Breathe'),\n",
       "  (1.626462674223086e-10, 'All Too Well 10'),\n",
       "  (1.415891689874593e-10, '22'),\n",
       "  (1.3756811253896413e-10, \"I'm Only Me When I'm With You\"),\n",
       "  (1.2494695235284544e-10, 'I Wish You Would')])"
      ]
     },
     "execution_count": 322,
     "metadata": {},
     "output_type": "execute_result"
    }
   ],
   "source": [
    "predict_song(best_model, vectorizer_tri_all, \"Ooh-ooh-ooh-ooh-ooh\")"
   ]
  },
  {
   "cell_type": "code",
   "execution_count": 323,
   "id": "88fc0553-17ce-49f6-826d-fe5d69a3bb8e",
   "metadata": {},
   "outputs": [
    {
     "data": {
      "text/plain": [
       "(array(['The Moment I Knew'], dtype='<U39'),\n",
       " [(0.25194856175741265, 'The Moment I Knew'),\n",
       "  (0.010790518296098997, 'Look What You Made Me Do'),\n",
       "  (0.007922557832714667, 'All Too Well 10'),\n",
       "  (0.006466825179184315, '22'),\n",
       "  (0.0063874678321166846, \"I'm Only Me When I'm With You\"),\n",
       "  (0.005771260580085831, 'I Wish You Would'),\n",
       "  (0.005619540285117, 'Blank Space'),\n",
       "  (0.005509453740475802, 'Call It What You Want'),\n",
       "  (0.005444960100075555, 'Everything Has Changed'),\n",
       "  (0.005436373954213943, 'End Game'),\n",
       "  (0.005398447364334674, 'Getaway Car'),\n",
       "  (0.005310477159977377, 'Shake It Off'),\n",
       "  (0.005214678885835655, 'Dress'),\n",
       "  (0.005158540388273988, 'happiness'),\n",
       "  (0.005131857005247268, 'So It Goes...')])"
      ]
     },
     "execution_count": 323,
     "metadata": {},
     "output_type": "execute_result"
    }
   ],
   "source": [
    "predict_song(best_model, vectorizer_tri_all, \"In red lipstick\")"
   ]
  },
  {
   "cell_type": "code",
   "execution_count": 324,
   "id": "2d2c9845-876c-4a50-b974-1791a6182f01",
   "metadata": {},
   "outputs": [
    {
     "data": {
      "text/plain": [
       "(array(['Getaway Car'], dtype='<U39'),\n",
       " [(0.9999999999523936, 'Getaway Car'),\n",
       "  (4.621520284901889e-12, 'Gorgeous'),\n",
       "  (1.6623118359885664e-12, 'I Bet You Think About Me'),\n",
       "  (1.594218681589229e-12, 'Bad Blood'),\n",
       "  (1.4184237261849997e-12, 'right where you left me'),\n",
       "  (1.021748977570577e-12, 'Better Than Revenge'),\n",
       "  (7.866431905121289e-13, '22'),\n",
       "  (7.733516446664934e-13, 'The Very First Night'),\n",
       "  (6.954019808452815e-13, 'King Of My Heart'),\n",
       "  (6.787433152806021e-13, 'I Wish You Would'),\n",
       "  (6.499493753561846e-13, 'Innocent'),\n",
       "  (6.19359349266863e-13, 'You Belong With Me'),\n",
       "  (5.209253824460425e-13, 'Is It Over Now?'),\n",
       "  (4.225912721887503e-13, 'Lover'),\n",
       "  (4.200263998711958e-13, 'Look What You Made Me Do')])"
      ]
     },
     "execution_count": 324,
     "metadata": {},
     "output_type": "execute_result"
    }
   ],
   "source": [
    "predict_song(best_model, vectorizer_tri_all, \"Think about the place where you first met me\")"
   ]
  },
  {
   "cell_type": "code",
   "execution_count": 325,
   "id": "616b1e47-87db-4bda-a22d-9970d5889950",
   "metadata": {},
   "outputs": [
    {
     "data": {
      "text/plain": [
       "(array(['Cruel Summer'], dtype='<U39'),\n",
       " [(0.9886151860165364, 'Cruel Summer'),\n",
       "  (0.0006688488066800808, 'End Game'),\n",
       "  (0.0004951491506496191, \"I'm Only Me When I'm With You\"),\n",
       "  (0.0004547434323349502, 'Afterglow'),\n",
       "  (0.0002747996852207756, 'Come Back...Be Here'),\n",
       "  (0.00025841297091033365, 'Is It Over Now?'),\n",
       "  (0.00023599621589174988, 'mirrorball'),\n",
       "  (0.00021425079095448775, 'So It Goes...'),\n",
       "  (0.00019974477666444195, \"Say Don't Go\"),\n",
       "  (0.00019876958697114718, 'Holy Ground'),\n",
       "  (0.00019074949382741916, 'Daylight'),\n",
       "  (0.0001530111866580123, 'long story short'),\n",
       "  (0.00012525887812678694, 'Castles Crumbling'),\n",
       "  (0.00012136349869933872, 'Foolish One'),\n",
       "  (0.0001124214035566652, 'Blank Space')])"
      ]
     },
     "execution_count": 325,
     "metadata": {},
     "output_type": "execute_result"
    }
   ],
   "source": [
    "predict_song(best_model, vectorizer_tri_all, \"I don't wanna keep secrets just to keep you\")"
   ]
  },
  {
   "cell_type": "code",
   "execution_count": 326,
   "id": "9dc7010b-c4a6-40b1-8e0f-ecc1210a9cf8",
   "metadata": {},
   "outputs": [
    {
     "data": {
      "text/plain": [
       "(array(['False God'], dtype='<U39'),\n",
       " [(0.9997021107752267, 'False God'),\n",
       "  (0.00016493617849117388, \"Say Don't Go\"),\n",
       "  (8.807737576680491e-06, 'coney island'),\n",
       "  (6.351489840491865e-06, 'invisible string'),\n",
       "  (3.3183881392310644e-06, 'willow'),\n",
       "  (3.2576622708904433e-06, 'Style'),\n",
       "  (2.833756250218804e-06, 'The Very First Night'),\n",
       "  (2.372943698341053e-06, 'Getaway Car'),\n",
       "  (2.0789536949709215e-06, 'Miss Americana & The Heartbreak Prince'),\n",
       "  (1.982436844171696e-06, 'Haunted'),\n",
       "  (1.8860149989365461e-06, \"'tis the damn season\"),\n",
       "  (1.6640818872323307e-06, 'this is me trying'),\n",
       "  (1.3806712430729346e-06, 'All Too Well 10'),\n",
       "  (1.327381838428162e-06, 'The Archer'),\n",
       "  (1.3060869275716799e-06, 'I Bet You Think About Me')])"
      ]
     },
     "execution_count": 326,
     "metadata": {},
     "output_type": "execute_result"
    }
   ],
   "source": [
    "predict_song(best_model, vectorizer_tri_all, \"Daring you to leave me just so I can try and scare you\")"
   ]
  },
  {
   "cell_type": "code",
   "execution_count": 327,
   "id": "75e4d764-10b5-4de4-afa4-b16c1bec1a76",
   "metadata": {},
   "outputs": [
    {
     "data": {
      "text/plain": [
       "(array(['my tears ricochet'], dtype='<U39'),\n",
       " [(0.9938384819685051, 'my tears ricochet'),\n",
       "  (0.0002888367260986306, 'I Know Places'),\n",
       "  (0.0001788672324323188, 'End Game'),\n",
       "  (0.00013558260651198127, 'The Lucky One'),\n",
       "  (0.00011855640680993045, 'Blank Space'),\n",
       "  (0.00010931913233857718, 'Shake It Off'),\n",
       "  (5.115214733164157e-05, \"This Is Why We Can't Have Nice Things\"),\n",
       "  (4.8121570608858844e-05, 'Nothing New'),\n",
       "  (4.644898431769027e-05, 'All Too Well 10'),\n",
       "  (4.5992033509659446e-05, '22'),\n",
       "  (4.323850196166723e-05, \"I'm Only Me When I'm With You\"),\n",
       "  (3.9683538454734115e-05, 'I Wish You Would'),\n",
       "  (3.896481509124603e-05, 'You Need To Calm Down'),\n",
       "  (3.856422701549499e-05, 'Everything Has Changed'),\n",
       "  (3.824343312212407e-05, 'Call It What You Want')])"
      ]
     },
     "execution_count": 327,
     "metadata": {},
     "output_type": "execute_result"
    }
   ],
   "source": [
    "predict_song(best_model, vectorizer_tri_all, \"We gather stones, never knowing what they'll mean\")"
   ]
  },
  {
   "cell_type": "code",
   "execution_count": 330,
   "id": "1bf2a887-c471-466c-adad-853a919fe193",
   "metadata": {},
   "outputs": [
    {
     "data": {
      "text/plain": [
       "(array(['Glitch'], dtype='<U39'),\n",
       " [(0.3324817631397138, 'Glitch'),\n",
       "  (0.12646949972724875, 'The Great War'),\n",
       "  (0.09445164527322489, 'Is It Over Now?'),\n",
       "  (0.08090163678415893, 'Paper Rings'),\n",
       "  (0.026336380499353988, \"I'm Only Me When I'm With You\"),\n",
       "  (0.00759070681968109, 'Karma'),\n",
       "  (0.0035863087710287715, 'All Too Well 10'),\n",
       "  (0.0029748388063658366, '22'),\n",
       "  (0.0026474149632157934, 'I Wish You Would'),\n",
       "  (0.0025826510478511506, 'Blank Space'),\n",
       "  (0.002529311168864851, 'Call It What You Want'),\n",
       "  (0.002503899474452888, 'Everything Has Changed'),\n",
       "  (0.002484677180157404, 'End Game'),\n",
       "  (0.0024754212523827356, 'Getaway Car'),\n",
       "  (0.0024734721978027802, 'Look What You Made Me Do')])"
      ]
     },
     "execution_count": 330,
     "metadata": {},
     "output_type": "execute_result"
    }
   ],
   "source": [
    "predict_song(best_model, vectorizer_tri_all, \"Uh-huh, uh-huh\")"
   ]
  },
  {
   "cell_type": "code",
   "execution_count": 332,
   "id": "b5804ae2-63af-4cea-81af-b823d296d672",
   "metadata": {},
   "outputs": [
    {
     "data": {
      "text/plain": [
       "(array(['Blank Space'], dtype='<U39'),\n",
       " [(0.48285961183091974, 'Blank Space'),\n",
       "  (0.009426621407678982, 'Jump Then Fall'),\n",
       "  (0.0065044010319507605, 'Invisible'),\n",
       "  (0.005005469431859659, 'All Too Well 10'),\n",
       "  (0.004357433272101828, '22'),\n",
       "  (0.004233684504572694, \"I'm Only Me When I'm With You\"),\n",
       "  (0.0038452659290502695, 'I Wish You Would'),\n",
       "  (0.0037828932252648184, 'mirrorball'),\n",
       "  (0.0036824238845061604, 'Call It What You Want'),\n",
       "  (0.003663817270382582, 'Everything Has Changed'),\n",
       "  (0.003591205035195155, 'Getaway Car'),\n",
       "  (0.003586258229203078, 'Look What You Made Me Do'),\n",
       "  (0.0035770746029650815, 'Picture To Burn'),\n",
       "  (0.00356945795329874, 'End Game'),\n",
       "  (0.003535817151196132, 'Shake It Off')])"
      ]
     },
     "execution_count": 332,
     "metadata": {},
     "output_type": "execute_result"
    }
   ],
   "source": [
    "predict_song(best_model, vectorizer_tri_all, \"I could show you incredible things\")"
   ]
  },
  {
   "cell_type": "code",
   "execution_count": 358,
   "id": "e4a68adb-ca8e-4804-bef3-4c5dfa93fc99",
   "metadata": {},
   "outputs": [
    {
     "data": {
      "text/plain": [
       "(array(['Today Was A Fairytale'], dtype='<U39'),\n",
       " [(0.06606601366391912, 'Today Was A Fairytale'),\n",
       "  (0.03362640135179085, 'Bejeweled'),\n",
       "  (0.030649424034485253, 'cowboy like me'),\n",
       "  (0.030264878107575804, 'Question...?'),\n",
       "  (0.02623467675673819, 'Stay Beautiful'),\n",
       "  (0.019544545727522063, 'The Way I Loved You'),\n",
       "  (0.018211749584057205, 'Picture To Burn'),\n",
       "  (0.016147356509495652, 'Jump Then Fall'),\n",
       "  (0.014986381674831665, 'Snow On The Beach'),\n",
       "  (0.013218332090972614, 'You Are In Love'),\n",
       "  (0.013208468270418147, 'Mine'),\n",
       "  (0.011643364446504906, 'Enchanted'),\n",
       "  (0.011014281638643679, 'Paris'),\n",
       "  (0.010627266739749765, 'Hey Stephen'),\n",
       "  (0.009463390820411215, 'End Game')])"
      ]
     },
     "execution_count": 358,
     "metadata": {},
     "output_type": "execute_result"
    }
   ],
   "source": [
    "predict_song(best_model, vectorizer_tri_all, \"By the way\") # not right - Today was a Fairytale has \"the way\" a lot though"
   ]
  },
  {
   "cell_type": "code",
   "execution_count": 360,
   "id": "21725b65-c9f6-405f-bafe-d8d24ead9b2c",
   "metadata": {},
   "outputs": [
    {
     "data": {
      "text/plain": [
       "(array(['The Very First Night'], dtype='<U39'),\n",
       " [(0.879114701578543, 'The Very First Night'),\n",
       "  (0.004311172393939708, 'Superman'),\n",
       "  (0.002642949886767918, \"Mary's Song\"),\n",
       "  (0.0024677209252992175, 'Lover'),\n",
       "  (0.0017628509049690464, 'Love Story'),\n",
       "  (0.0015199823820698031, 'Style'),\n",
       "  (0.0013986343960045076, 'Wildest Dreams'),\n",
       "  (0.0013052007253788866, 'Mean'),\n",
       "  (0.0012493727730723979, 'the lakes'),\n",
       "  (0.0012443562233638932, 'New Romantics'),\n",
       "  (0.00114401377830554, 'All Too Well 10'),\n",
       "  (0.0009711683663875972, \"You're On Your Own, Kid\"),\n",
       "  (0.0009338066396096064, '22'),\n",
       "  (0.0009223474744798472, \"I'm Only Me When I'm With You\"),\n",
       "  (0.0008333674251699971, 'I Wish You Would')])"
      ]
     },
     "execution_count": 360,
     "metadata": {},
     "output_type": "execute_result"
    }
   ],
   "source": [
    "predict_song(best_model, vectorizer_tri_all, \"Take me away\")"
   ]
  }
 ],
 "metadata": {
  "kernelspec": {
   "display_name": "Python 3 (ipykernel)",
   "language": "python",
   "name": "python3"
  },
  "language_info": {
   "codemirror_mode": {
    "name": "ipython",
    "version": 3
   },
   "file_extension": ".py",
   "mimetype": "text/x-python",
   "name": "python",
   "nbconvert_exporter": "python",
   "pygments_lexer": "ipython3",
   "version": "3.11.5"
  }
 },
 "nbformat": 4,
 "nbformat_minor": 5
}
